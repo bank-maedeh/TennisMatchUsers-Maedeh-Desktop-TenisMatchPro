{
 "cells": [
  {
   "cell_type": "markdown",
   "metadata": {},
   "source": [
    "**9.\tWhich player has won the most tournaments in a single month?**\n"
   ]
  },
  {
   "cell_type": "code",
   "execution_count": 3,
   "metadata": {},
   "outputs": [],
   "source": [
    "import pandas as pd\n",
    "import numpy as np\n",
    "import matplotlib.pyplot as plt\n",
    "import scipy.stats as stats"
   ]
  },
  {
   "cell_type": "markdown",
   "metadata": {},
   "source": [
    "Reading requierd tables"
   ]
  },
  {
   "cell_type": "code",
   "execution_count": 4,
   "metadata": {},
   "outputs": [],
   "source": [
    "MatchTournamentInfo = pd.read_csv( 'C:/Users/Maedeh/Desktop/TenisMatchPro/data/external/MatchTournamentInfo.csv')\n",
    "MatchEventInfo = pd.read_csv( 'C:/Users/Maedeh/Desktop/TenisMatchPro/data/external/MatchEventInfo.csv')\n",
    "MatchHomeTeamInfo = pd.read_csv( 'C:/Users/Maedeh/Desktop/TenisMatchPro/data/external/MatchHomeTeamInfo.csv')\n",
    "MatchAwayTeamInfo = pd.read_csv( 'C:/Users/Maedeh/Desktop/TenisMatchPro/data/external/MatchAwayTeamInfo.csv')"
   ]
  },
  {
   "cell_type": "markdown",
   "metadata": {},
   "source": [
    "Drop duplicated data"
   ]
  },
  {
   "cell_type": "markdown",
   "metadata": {},
   "source": [
    "Creating a new table which contains match id, winer name and id and tournament name"
   ]
  },
  {
   "cell_type": "code",
   "execution_count": 59,
   "metadata": {},
   "outputs": [
    {
     "data": {
      "text/html": [
       "<div>\n",
       "<style scoped>\n",
       "    .dataframe tbody tr th:only-of-type {\n",
       "        vertical-align: middle;\n",
       "    }\n",
       "\n",
       "    .dataframe tbody tr th {\n",
       "        vertical-align: top;\n",
       "    }\n",
       "\n",
       "    .dataframe thead th {\n",
       "        text-align: right;\n",
       "    }\n",
       "</style>\n",
       "<table border=\"1\" class=\"dataframe\">\n",
       "  <thead>\n",
       "    <tr style=\"text-align: right;\">\n",
       "      <th></th>\n",
       "      <th>match_id</th>\n",
       "      <th>player_id_x</th>\n",
       "      <th>player_id_y</th>\n",
       "      <th>winner_code</th>\n",
       "      <th>tournament_name</th>\n",
       "      <th>tournament_id</th>\n",
       "    </tr>\n",
       "  </thead>\n",
       "  <tbody>\n",
       "    <tr>\n",
       "      <th>0</th>\n",
       "      <td>12260075</td>\n",
       "      <td>14486</td>\n",
       "      <td>254742</td>\n",
       "      <td>2.0</td>\n",
       "      <td>Madrid, Spain</td>\n",
       "      <td>129164</td>\n",
       "    </tr>\n",
       "    <tr>\n",
       "      <th>1</th>\n",
       "      <td>12260076</td>\n",
       "      <td>206570</td>\n",
       "      <td>90080</td>\n",
       "      <td>1.0</td>\n",
       "      <td>Madrid, Spain</td>\n",
       "      <td>129164</td>\n",
       "    </tr>\n",
       "    <tr>\n",
       "      <th>2</th>\n",
       "      <td>12260077</td>\n",
       "      <td>46391</td>\n",
       "      <td>275923</td>\n",
       "      <td>2.0</td>\n",
       "      <td>Madrid, Spain</td>\n",
       "      <td>129164</td>\n",
       "    </tr>\n",
       "    <tr>\n",
       "      <th>3</th>\n",
       "      <td>12260078</td>\n",
       "      <td>106755</td>\n",
       "      <td>275923</td>\n",
       "      <td>1.0</td>\n",
       "      <td>Madrid, Spain</td>\n",
       "      <td>129164</td>\n",
       "    </tr>\n",
       "    <tr>\n",
       "      <th>4</th>\n",
       "      <td>12260080</td>\n",
       "      <td>221012</td>\n",
       "      <td>57163</td>\n",
       "      <td>1.0</td>\n",
       "      <td>Madrid, Spain</td>\n",
       "      <td>129164</td>\n",
       "    </tr>\n",
       "  </tbody>\n",
       "</table>\n",
       "</div>"
      ],
      "text/plain": [
       "   match_id  player_id_x  player_id_y  winner_code tournament_name  \\\n",
       "0  12260075        14486       254742          2.0   Madrid, Spain   \n",
       "1  12260076       206570        90080          1.0   Madrid, Spain   \n",
       "2  12260077        46391       275923          2.0   Madrid, Spain   \n",
       "3  12260078       106755       275923          1.0   Madrid, Spain   \n",
       "4  12260080       221012        57163          1.0   Madrid, Spain   \n",
       "\n",
       "   tournament_id  \n",
       "0         129164  \n",
       "1         129164  \n",
       "2         129164  \n",
       "3         129164  \n",
       "4         129164  "
      ]
     },
     "execution_count": 59,
     "metadata": {},
     "output_type": "execute_result"
    }
   ],
   "source": [
    "merged_HW = MatchHomeTeamInfo_dd[['match_id' ,\n",
    "                                  'player_id']].merge(MatchAwayTeamInfo_dd[['match_id' ,\n",
    "                                                                            'player_id']],\n",
    "                                                                             on ='match_id').drop_duplicates(subset='match_id')\n",
    "merged_EHW = merged_HW[['match_id' ,\n",
    "                        'player_id_x' , 'player_id_y']].merge(MatchEventInfo_dd[['match_id',\n",
    "                                                                                 'winner_code']],\n",
    "                                                                                  on ='match_id').drop_duplicates(subset='match_id')\n",
    "merged_TEHW = merged_EHW[['match_id' ,\n",
    "                        'player_id_x' , 'player_id_y' , 'winner_code']].merge(MatchTournamentInfo_dd[['match_id',\n",
    "                                                                                 'tournament_name' , 'tournament_id']],\n",
    "                                                                                  on ='match_id').drop_duplicates(subset='match_id')\n",
    "merged_TEHW = merged_TEHW.dropna()\n",
    "merged_TEHW['winner_id'] = merged_TEHW.apply( lambda x : x['player_id_x']  if x['winner_code']==1 else x['player_id_y'] , axis = 1)\n"
   ]
  },
  {
   "cell_type": "code",
   "execution_count": 39,
   "metadata": {},
   "outputs": [
    {
     "data": {
      "text/html": [
       "<div>\n",
       "<style scoped>\n",
       "    .dataframe tbody tr th:only-of-type {\n",
       "        vertical-align: middle;\n",
       "    }\n",
       "\n",
       "    .dataframe tbody tr th {\n",
       "        vertical-align: top;\n",
       "    }\n",
       "\n",
       "    .dataframe thead th {\n",
       "        text-align: right;\n",
       "    }\n",
       "</style>\n",
       "<table border=\"1\" class=\"dataframe\">\n",
       "  <thead>\n",
       "    <tr style=\"text-align: right;\">\n",
       "      <th></th>\n",
       "      <th>match_id</th>\n",
       "      <th>player_id_x</th>\n",
       "      <th>player_id_y</th>\n",
       "      <th>winner_code</th>\n",
       "      <th>tournament_name</th>\n",
       "      <th>tournament_id</th>\n",
       "      <th>winner_id</th>\n",
       "    </tr>\n",
       "  </thead>\n",
       "  <tbody>\n",
       "    <tr>\n",
       "      <th>0</th>\n",
       "      <td>12260075</td>\n",
       "      <td>14486</td>\n",
       "      <td>254742</td>\n",
       "      <td>2.0</td>\n",
       "      <td>Madrid, Spain</td>\n",
       "      <td>129164</td>\n",
       "      <td>254742</td>\n",
       "    </tr>\n",
       "    <tr>\n",
       "      <th>1</th>\n",
       "      <td>12260076</td>\n",
       "      <td>206570</td>\n",
       "      <td>90080</td>\n",
       "      <td>1.0</td>\n",
       "      <td>Madrid, Spain</td>\n",
       "      <td>129164</td>\n",
       "      <td>206570</td>\n",
       "    </tr>\n",
       "    <tr>\n",
       "      <th>2</th>\n",
       "      <td>12260077</td>\n",
       "      <td>46391</td>\n",
       "      <td>275923</td>\n",
       "      <td>2.0</td>\n",
       "      <td>Madrid, Spain</td>\n",
       "      <td>129164</td>\n",
       "      <td>275923</td>\n",
       "    </tr>\n",
       "    <tr>\n",
       "      <th>3</th>\n",
       "      <td>12260078</td>\n",
       "      <td>106755</td>\n",
       "      <td>275923</td>\n",
       "      <td>1.0</td>\n",
       "      <td>Madrid, Spain</td>\n",
       "      <td>129164</td>\n",
       "      <td>106755</td>\n",
       "    </tr>\n",
       "    <tr>\n",
       "      <th>4</th>\n",
       "      <td>12260080</td>\n",
       "      <td>221012</td>\n",
       "      <td>57163</td>\n",
       "      <td>1.0</td>\n",
       "      <td>Madrid, Spain</td>\n",
       "      <td>129164</td>\n",
       "      <td>221012</td>\n",
       "    </tr>\n",
       "  </tbody>\n",
       "</table>\n",
       "</div>"
      ],
      "text/plain": [
       "   match_id  player_id_x  player_id_y  winner_code tournament_name  \\\n",
       "0  12260075        14486       254742          2.0   Madrid, Spain   \n",
       "1  12260076       206570        90080          1.0   Madrid, Spain   \n",
       "2  12260077        46391       275923          2.0   Madrid, Spain   \n",
       "3  12260078       106755       275923          1.0   Madrid, Spain   \n",
       "4  12260080       221012        57163          1.0   Madrid, Spain   \n",
       "\n",
       "   tournament_id  winner_id  \n",
       "0         129164     254742  \n",
       "1         129164     206570  \n",
       "2         129164     275923  \n",
       "3         129164     106755  \n",
       "4         129164     221012  "
      ]
     },
     "execution_count": 39,
     "metadata": {},
     "output_type": "execute_result"
    }
   ],
   "source": [
    "merged_TEHW.head()"
   ]
  },
  {
   "cell_type": "markdown",
   "metadata": {},
   "source": [
    "Creating a data frame to show the number of won tournoments for each player"
   ]
  },
  {
   "cell_type": "code",
   "execution_count": null,
   "metadata": {},
   "outputs": [],
   "source": [
    "player = pd.concat ([MatchHomeTeamInfo[['player_id', 'name']] , MatchAwayTeamInfo[['player_id', 'name']]]).drop_duplicates(subset = 'player_id')\n",
    "player['no_tour'] = 0\n",
    "for no in player['player_id']:\n",
    "    player['no_tour'].loc[player['player_id'] == no] = len(merged_TEHW['tournament_name'].loc[merged_TEHW['winner_id'] == no].unique())"
   ]
  },
  {
   "cell_type": "code",
   "execution_count": 55,
   "metadata": {},
   "outputs": [
    {
     "data": {
      "text/html": [
       "<div>\n",
       "<style scoped>\n",
       "    .dataframe tbody tr th:only-of-type {\n",
       "        vertical-align: middle;\n",
       "    }\n",
       "\n",
       "    .dataframe tbody tr th {\n",
       "        vertical-align: top;\n",
       "    }\n",
       "\n",
       "    .dataframe thead th {\n",
       "        text-align: right;\n",
       "    }\n",
       "</style>\n",
       "<table border=\"1\" class=\"dataframe\">\n",
       "  <thead>\n",
       "    <tr style=\"text-align: right;\">\n",
       "      <th></th>\n",
       "      <th>player_id</th>\n",
       "      <th>name</th>\n",
       "      <th>no_tour</th>\n",
       "    </tr>\n",
       "  </thead>\n",
       "  <tbody>\n",
       "    <tr>\n",
       "      <th>0</th>\n",
       "      <td>14486</td>\n",
       "      <td>Nadal R.</td>\n",
       "      <td>1</td>\n",
       "    </tr>\n",
       "    <tr>\n",
       "      <th>1</th>\n",
       "      <td>206570</td>\n",
       "      <td>Sinner J.</td>\n",
       "      <td>2</td>\n",
       "    </tr>\n",
       "    <tr>\n",
       "      <th>2</th>\n",
       "      <td>46391</td>\n",
       "      <td>Struff J.</td>\n",
       "      <td>1</td>\n",
       "    </tr>\n",
       "    <tr>\n",
       "      <th>3</th>\n",
       "      <td>106755</td>\n",
       "      <td>Rublev A.</td>\n",
       "      <td>2</td>\n",
       "    </tr>\n",
       "    <tr>\n",
       "      <th>4</th>\n",
       "      <td>221012</td>\n",
       "      <td>Cerundolo F.</td>\n",
       "      <td>2</td>\n",
       "    </tr>\n",
       "  </tbody>\n",
       "</table>\n",
       "</div>"
      ],
      "text/plain": [
       "   player_id          name  no_tour\n",
       "0      14486      Nadal R.        1\n",
       "1     206570     Sinner J.        2\n",
       "2      46391     Struff J.        1\n",
       "3     106755     Rublev A.        2\n",
       "4     221012  Cerundolo F.        2"
      ]
     },
     "execution_count": 55,
     "metadata": {},
     "output_type": "execute_result"
    }
   ],
   "source": [
    "player.head()"
   ]
  },
  {
   "cell_type": "markdown",
   "metadata": {},
   "source": [
    "**Reporting the best player with the most wins**"
   ]
  },
  {
   "cell_type": "code",
   "execution_count": 58,
   "metadata": {},
   "outputs": [
    {
     "name": "stdout",
     "output_type": "stream",
     "text": [
      "Player Kuramochi M. with 390973 ID has won 7 tournomernt which is most tournaments in a single month\n"
     ]
    }
   ],
   "source": [
    "best_no_tour = player['no_tour'].max()\n",
    "best_winer_id = player['player_id'].loc[player['no_tour'] == player['no_tour'].max()].values[0]\n",
    "best_winer_name = player['name'].loc[player['no_tour'] == player['no_tour'].max()].values[0]\n",
    "print (f'Player {best_winer_name} with {best_winer_id} ID has won {best_no_tour} tournomernt which is most tournaments in a single month')\n"
   ]
  }
 ],
 "metadata": {
  "kernelspec": {
   "display_name": "Python 3",
   "language": "python",
   "name": "python3"
  },
  "language_info": {
   "codemirror_mode": {
    "name": "ipython",
    "version": 3
   },
   "file_extension": ".py",
   "mimetype": "text/x-python",
   "name": "python",
   "nbconvert_exporter": "python",
   "pygments_lexer": "ipython3",
   "version": "3.12.2"
  }
 },
 "nbformat": 4,
 "nbformat_minor": 2
}
