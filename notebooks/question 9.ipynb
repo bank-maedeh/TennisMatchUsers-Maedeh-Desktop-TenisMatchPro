{
 "cells": [
  {
   "cell_type": "markdown",
   "metadata": {},
   "source": [
    "**9.\tWhich player has won the most tournaments in a single month?**\n"
   ]
  },
  {
   "cell_type": "code",
   "execution_count": 1,
   "metadata": {},
   "outputs": [],
   "source": [
    "import pandas as pd\n",
    "import numpy as np\n",
    "import matplotlib.pyplot as plt\n",
    "import scipy.stats as stats"
   ]
  },
  {
   "cell_type": "markdown",
   "metadata": {},
   "source": [
    "Reading requierd tables"
   ]
  },
  {
   "cell_type": "code",
   "execution_count": 2,
   "metadata": {},
   "outputs": [],
   "source": [
    "MatchTournamentInfo = pd.read_csv( 'C:/Users/Maedeh/Desktop/TenisMatchPro/data/external/MatchTournamentInfo.csv')\n",
    "MatchEventInfo = pd.read_csv( 'C:/Users/Maedeh/Desktop/TenisMatchPro/data/external/MatchEventInfo.csv')\n",
    "MatchHomeTeamInfo = pd.read_csv( 'C:/Users/Maedeh/Desktop/TenisMatchPro/data/external/MatchHomeTeamInfo.csv')\n",
    "MatchAwayTeamInfo = pd.read_csv( 'C:/Users/Maedeh/Desktop/TenisMatchPro/data/external/MatchAwayTeamInfo.csv')"
   ]
  },
  {
   "cell_type": "markdown",
   "metadata": {},
   "source": [
    "Drop duplicated data"
   ]
  },
  {
   "cell_type": "markdown",
   "metadata": {},
   "source": [
    "Creating a new table which contains match id, winer name and id and tournament name"
   ]
  },
  {
   "cell_type": "code",
   "execution_count": 3,
   "metadata": {},
   "outputs": [],
   "source": [
    "merged_HW = MatchHomeTeamInfo[['match_id' ,\n",
    "                                  'player_id']].merge(MatchAwayTeamInfo[['match_id' ,\n",
    "                                                                         'player_id']],\n",
    "                                                                         on ='match_id').drop_duplicates(subset='match_id')\n",
    "merged_EHW = merged_HW[['match_id' ,\n",
    "                        'player_id_x' , 'player_id_y']].merge(MatchEventInfo[['match_id',\n",
    "                                                                              'winner_code',\n",
    "                                                                              'start_datetime']],\n",
    "                                                                               on ='match_id')\n",
    "merged_TEHW = merged_EHW[['match_id' ,\n",
    "                        'player_id_x',\n",
    "                        'player_id_y',\n",
    "                        'winner_code',\n",
    "                        'start_datetime']].merge(MatchTournamentInfo[['match_id',\n",
    "                                                                      'tournament_name',\n",
    "                                                                      'tournament_id']],\n",
    "                                                                       on ='match_id')\n",
    "merged_TEHW = merged_TEHW.dropna()\n",
    "merged_TEHW['winner_id'] = merged_TEHW.apply( lambda x : x['player_id_x']  \n",
    "                                             if x['winner_code'] == 1 \n",
    "                                             else x['player_id_y'] , axis = 1)\n"
   ]
  },
  {
   "cell_type": "code",
   "execution_count": 4,
   "metadata": {},
   "outputs": [
    {
     "data": {
      "text/html": [
       "<div>\n",
       "<style scoped>\n",
       "    .dataframe tbody tr th:only-of-type {\n",
       "        vertical-align: middle;\n",
       "    }\n",
       "\n",
       "    .dataframe tbody tr th {\n",
       "        vertical-align: top;\n",
       "    }\n",
       "\n",
       "    .dataframe thead th {\n",
       "        text-align: right;\n",
       "    }\n",
       "</style>\n",
       "<table border=\"1\" class=\"dataframe\">\n",
       "  <thead>\n",
       "    <tr style=\"text-align: right;\">\n",
       "      <th></th>\n",
       "      <th>match_id</th>\n",
       "      <th>player_id_x</th>\n",
       "      <th>player_id_y</th>\n",
       "      <th>winner_code</th>\n",
       "      <th>start_datetime</th>\n",
       "      <th>tournament_name</th>\n",
       "      <th>tournament_id</th>\n",
       "      <th>winner_id</th>\n",
       "    </tr>\n",
       "  </thead>\n",
       "  <tbody>\n",
       "    <tr>\n",
       "      <th>0</th>\n",
       "      <td>12260075</td>\n",
       "      <td>14486</td>\n",
       "      <td>254742</td>\n",
       "      <td>2.0</td>\n",
       "      <td>1714499700</td>\n",
       "      <td>Madrid, Spain</td>\n",
       "      <td>129164</td>\n",
       "      <td>254742</td>\n",
       "    </tr>\n",
       "    <tr>\n",
       "      <th>1</th>\n",
       "      <td>12260076</td>\n",
       "      <td>206570</td>\n",
       "      <td>90080</td>\n",
       "      <td>1.0</td>\n",
       "      <td>1714480500</td>\n",
       "      <td>Madrid, Spain</td>\n",
       "      <td>129164</td>\n",
       "      <td>206570</td>\n",
       "    </tr>\n",
       "    <tr>\n",
       "      <th>2</th>\n",
       "      <td>12260077</td>\n",
       "      <td>46391</td>\n",
       "      <td>275923</td>\n",
       "      <td>2.0</td>\n",
       "      <td>1714484700</td>\n",
       "      <td>Madrid, Spain</td>\n",
       "      <td>129164</td>\n",
       "      <td>275923</td>\n",
       "    </tr>\n",
       "    <tr>\n",
       "      <th>3</th>\n",
       "      <td>12260078</td>\n",
       "      <td>106755</td>\n",
       "      <td>275923</td>\n",
       "      <td>1.0</td>\n",
       "      <td>1714564800</td>\n",
       "      <td>Madrid, Spain</td>\n",
       "      <td>129164</td>\n",
       "      <td>106755</td>\n",
       "    </tr>\n",
       "    <tr>\n",
       "      <th>4</th>\n",
       "      <td>12260078</td>\n",
       "      <td>106755</td>\n",
       "      <td>275923</td>\n",
       "      <td>1.0</td>\n",
       "      <td>1714564800</td>\n",
       "      <td>Madrid, Spain</td>\n",
       "      <td>129164</td>\n",
       "      <td>106755</td>\n",
       "    </tr>\n",
       "  </tbody>\n",
       "</table>\n",
       "</div>"
      ],
      "text/plain": [
       "   match_id  player_id_x  player_id_y  winner_code  start_datetime  \\\n",
       "0  12260075        14486       254742          2.0      1714499700   \n",
       "1  12260076       206570        90080          1.0      1714480500   \n",
       "2  12260077        46391       275923          2.0      1714484700   \n",
       "3  12260078       106755       275923          1.0      1714564800   \n",
       "4  12260078       106755       275923          1.0      1714564800   \n",
       "\n",
       "  tournament_name  tournament_id  winner_id  \n",
       "0   Madrid, Spain         129164     254742  \n",
       "1   Madrid, Spain         129164     206570  \n",
       "2   Madrid, Spain         129164     275923  \n",
       "3   Madrid, Spain         129164     106755  \n",
       "4   Madrid, Spain         129164     106755  "
      ]
     },
     "execution_count": 4,
     "metadata": {},
     "output_type": "execute_result"
    }
   ],
   "source": [
    "merged_TEHW.head()"
   ]
  },
  {
   "cell_type": "markdown",
   "metadata": {},
   "source": [
    "determinig the last match and its winner according to start datetime"
   ]
  },
  {
   "cell_type": "code",
   "execution_count": 11,
   "metadata": {},
   "outputs": [
    {
     "data": {
      "text/html": [
       "<div>\n",
       "<style scoped>\n",
       "    .dataframe tbody tr th:only-of-type {\n",
       "        vertical-align: middle;\n",
       "    }\n",
       "\n",
       "    .dataframe tbody tr th {\n",
       "        vertical-align: top;\n",
       "    }\n",
       "\n",
       "    .dataframe thead th {\n",
       "        text-align: right;\n",
       "    }\n",
       "</style>\n",
       "<table border=\"1\" class=\"dataframe\">\n",
       "  <thead>\n",
       "    <tr style=\"text-align: right;\">\n",
       "      <th></th>\n",
       "      <th>tournament_id</th>\n",
       "      <th>start_datetime</th>\n",
       "      <th>winner_id</th>\n",
       "    </tr>\n",
       "  </thead>\n",
       "  <tbody>\n",
       "    <tr>\n",
       "      <th>0</th>\n",
       "      <td>129164</td>\n",
       "      <td>1714929300</td>\n",
       "      <td>106755</td>\n",
       "    </tr>\n",
       "    <tr>\n",
       "      <th>1</th>\n",
       "      <td>129201</td>\n",
       "      <td>1714842900</td>\n",
       "      <td>228272</td>\n",
       "    </tr>\n",
       "    <tr>\n",
       "      <th>2</th>\n",
       "      <td>129510</td>\n",
       "      <td>1714891500</td>\n",
       "      <td>275471</td>\n",
       "    </tr>\n",
       "    <tr>\n",
       "      <th>3</th>\n",
       "      <td>129514</td>\n",
       "      <td>1714923000</td>\n",
       "      <td>48225</td>\n",
       "    </tr>\n",
       "    <tr>\n",
       "      <th>4</th>\n",
       "      <td>129518</td>\n",
       "      <td>1714922100</td>\n",
       "      <td>102151</td>\n",
       "    </tr>\n",
       "  </tbody>\n",
       "</table>\n",
       "</div>"
      ],
      "text/plain": [
       "   tournament_id  start_datetime  winner_id\n",
       "0         129164      1714929300     106755\n",
       "1         129201      1714842900     228272\n",
       "2         129510      1714891500     275471\n",
       "3         129514      1714923000      48225\n",
       "4         129518      1714922100     102151"
      ]
     },
     "execution_count": 11,
     "metadata": {},
     "output_type": "execute_result"
    }
   ],
   "source": [
    "player_tounament = merged_TEHW.groupby('tournament_id',\n",
    "                                        as_index=False).agg({'start_datetime': 'max' ,\n",
    "                                                             'winner_id' :'last'})\n",
    "player_tounament.head()"
   ]
  },
  {
   "cell_type": "markdown",
   "metadata": {},
   "source": [
    "calculating number of won tournoments for each player"
   ]
  },
  {
   "cell_type": "code",
   "execution_count": 21,
   "metadata": {},
   "outputs": [
    {
     "data": {
      "text/html": [
       "<div>\n",
       "<style scoped>\n",
       "    .dataframe tbody tr th:only-of-type {\n",
       "        vertical-align: middle;\n",
       "    }\n",
       "\n",
       "    .dataframe tbody tr th {\n",
       "        vertical-align: top;\n",
       "    }\n",
       "\n",
       "    .dataframe thead th {\n",
       "        text-align: right;\n",
       "    }\n",
       "</style>\n",
       "<table border=\"1\" class=\"dataframe\">\n",
       "  <thead>\n",
       "    <tr style=\"text-align: right;\">\n",
       "      <th></th>\n",
       "      <th>winner_id</th>\n",
       "      <th>no_tour</th>\n",
       "    </tr>\n",
       "  </thead>\n",
       "  <tbody>\n",
       "    <tr>\n",
       "      <th>0</th>\n",
       "      <td>15983</td>\n",
       "      <td>2</td>\n",
       "    </tr>\n",
       "    <tr>\n",
       "      <th>1</th>\n",
       "      <td>18919</td>\n",
       "      <td>1</td>\n",
       "    </tr>\n",
       "  </tbody>\n",
       "</table>\n",
       "</div>"
      ],
      "text/plain": [
       "   winner_id  no_tour\n",
       "0      15983        2\n",
       "1      18919        1"
      ]
     },
     "execution_count": 21,
     "metadata": {},
     "output_type": "execute_result"
    }
   ],
   "source": [
    "players = player_tounament.groupby('winner_id', as_index= False).aggregate(no_tour = ('tournament_id' , 'count'))\n",
    "players.head(2)"
   ]
  },
  {
   "cell_type": "markdown",
   "metadata": {},
   "source": [
    "**Reporting the best player with the most wins**"
   ]
  },
  {
   "cell_type": "code",
   "execution_count": 23,
   "metadata": {},
   "outputs": [
    {
     "name": "stdout",
     "output_type": "stream",
     "text": [
      "Player  with 228272 ID has won 3 tournomernt which is most tournaments in a single month\n"
     ]
    }
   ],
   "source": [
    "best_no_tour = players['no_tour'].max()\n",
    "best_winer_id = players['winner_id'].loc[players['no_tour'] == players['no_tour'].max()].values[0]\n",
    "print (f'Player  with {best_winer_id} ID has won {best_no_tour} tournomernt which is most tournaments in a single month')\n"
   ]
  }
 ],
 "metadata": {
  "kernelspec": {
   "display_name": "Python 3",
   "language": "python",
   "name": "python3"
  },
  "language_info": {
   "codemirror_mode": {
    "name": "ipython",
    "version": 3
   },
   "file_extension": ".py",
   "mimetype": "text/x-python",
   "name": "python",
   "nbconvert_exporter": "python",
   "pygments_lexer": "ipython3",
   "version": "3.12.2"
  }
 },
 "nbformat": 4,
 "nbformat_minor": 2
}
