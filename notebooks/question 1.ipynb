{
 "cells": [
  {
   "cell_type": "markdown",
   "metadata": {},
   "source": [
    "\n",
    "**1.\tHow many tennis players are included in the dataset?**"
   ]
  },
  {
   "cell_type": "code",
   "execution_count": 1,
   "metadata": {},
   "outputs": [],
   "source": [
    "import pandas as pd"
   ]
  },
  {
   "cell_type": "markdown",
   "metadata": {},
   "source": [
    "Reading Data from saved csv files"
   ]
  },
  {
   "cell_type": "code",
   "execution_count": 2,
   "metadata": {},
   "outputs": [],
   "source": [
    "MatchAwayTeamInfo = pd.read_csv( 'C:/Users/Maedeh/Desktop/TenisMatchPro/data/external/MatchAwayTeamInfo.csv')\n",
    "MatchHomeTeamInfo = pd.read_csv( 'C:/Users/Maedeh/Desktop/TenisMatchPro/data/external/MatchHomeTeamInfo.csv')"
   ]
  },
  {
   "cell_type": "markdown",
   "metadata": {},
   "source": [
    "All of the information about the players can be found in two tabels named \"MatchHomeTeamInfo\" and \"MatchAwayTeamInfo\".\n",
    "By concating this two tables, we can see all players information\n",
    "the number of distinct player_id in the concated table can be shown the total number of the players"
   ]
  },
  {
   "cell_type": "code",
   "execution_count": 4,
   "metadata": {},
   "outputs": [
    {
     "name": "stdout",
     "output_type": "stream",
     "text": [
      "Total number of tenis players equalls to 2352\n",
      "51.0 % for men and 48.0% for women\n"
     ]
    }
   ],
   "source": [
    "all_players = pd.concat ([MatchHomeTeamInfo , MatchAwayTeamInfo])\n",
    "all_players = pd.concat ([MatchHomeTeamInfo , MatchAwayTeamInfo]).drop_duplicates(subset='player_id')\n",
    "no_player = len(all_players['player_id'].unique())\n",
    "male_per = round (len (all_players[all_players['gender'] == 'M']) / no_player, 2) * 100\n",
    "female_per = round(len (all_players[all_players['gender'] == 'F']) / no_player, 2) * 100\n",
    "print (f\"Total number of tenis players equalls to {no_player}\") \n",
    "print (f\"{male_per} % are men and {female_per}% are women\")"
   ]
  }
 ],
 "metadata": {
  "kernelspec": {
   "display_name": "Python 3",
   "language": "python",
   "name": "python3"
  },
  "language_info": {
   "codemirror_mode": {
    "name": "ipython",
    "version": 3
   },
   "file_extension": ".py",
   "mimetype": "text/x-python",
   "name": "python",
   "nbconvert_exporter": "python",
   "pygments_lexer": "ipython3",
   "version": "3.12.2"
  }
 },
 "nbformat": 4,
 "nbformat_minor": 2
}
