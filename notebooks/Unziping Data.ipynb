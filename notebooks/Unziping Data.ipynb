{
 "cells": [
  {
   "cell_type": "markdown",
   "metadata": {},
   "source": [
    "**Unziping Data**\n",
    "\n",
    "Firstly the Zip file has to be extacted after importing requiered libraries"
   ]
  },
  {
   "cell_type": "code",
   "execution_count": 2,
   "metadata": {},
   "outputs": [],
   "source": [
    "import zipfile\n",
    "import os\n",
    "import pandas  as pd\n",
    "import numpy as np"
   ]
  },
  {
   "cell_type": "code",
   "execution_count": 5,
   "metadata": {},
   "outputs": [],
   "source": [
    "source_path = 'C:/Users/Maedeh/Desktop/TenisMatchPro/data'\n",
    "main_zip = '202405.zip'        \n",
    "file_path = os.path.join(f'{source_path}/raw', main_zip)\n",
    "with zipfile.ZipFile(file_path, 'r') as zip_ref:\n",
    "    zip_ref.extractall(f\"{source_path}/interim\")"
   ]
  },
  {
   "cell_type": "markdown",
   "metadata": {},
   "source": [
    "I had two apraoch for extracting the zip date folders:\n",
    "Firstly an apraoch which make a list of file names in manual form\n",
    "This apraoch was my first apraoch but I found out that a better apraoch exists, which makes a list of the existing files in a folder using os library.\n",
    "So I did the second one two.\n",
    "The following code is the efficient one:"
   ]
  },
  {
   "cell_type": "code",
   "execution_count": null,
   "metadata": {},
   "outputs": [],
   "source": [
    "file_names=os.listdir(f'{source_path}/interim')\n",
    "for file in file_names :        \n",
    "        file_path = os.path.join(f'{source_path}/interim', file)\n",
    "        with zipfile.ZipFile(file_path, 'r') as zip_ref:\n",
    "                zip_ref.extractall(f'{source_path}/processed/{file}')"
   ]
  },
  {
   "cell_type": "markdown",
   "metadata": {},
   "source": [
    "The following code is my first approach"
   ]
  },
  {
   "cell_type": "code",
   "execution_count": 15,
   "metadata": {},
   "outputs": [],
   "source": [
    "for i in np.arange(1,2):\n",
    "    if i <= 9:\n",
    "        file = f\"2024050{i}\"\n",
    "    else:\n",
    "        file = f\"202405{i}\"\n",
    "    source_path = 'C:/Users/Maedeh/Desktop/TenisMatchPro/data/raw'\n",
    "    destination_path = 'C:/Users/Maedeh/Desktop/TenisMatchPro/data/interim2'\n",
    "    file_names = file + '.zip'\n",
    "    file_path = os.path.join(source_path, file_names)\n",
    "    with zipfile.ZipFile(file_path, 'r') as zip_ref:\n",
    "        zip_ref.extractall(f\"{destination_path}/{file}\")"
   ]
  }
 ],
 "metadata": {
  "kernelspec": {
   "display_name": "Python 3",
   "language": "python",
   "name": "python3"
  },
  "language_info": {
   "codemirror_mode": {
    "name": "ipython",
    "version": 3
   },
   "file_extension": ".py",
   "mimetype": "text/x-python",
   "name": "python",
   "nbconvert_exporter": "python",
   "pygments_lexer": "ipython3",
   "version": "3.12.2"
  }
 },
 "nbformat": 4,
 "nbformat_minor": 2
}
