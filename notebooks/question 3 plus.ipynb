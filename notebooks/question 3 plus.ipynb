{
 "cells": [
  {
   "cell_type": "markdown",
   "metadata": {},
   "source": [
    "**3.\tWhich player has the highest number of wins?**"
   ]
  },
  {
   "cell_type": "markdown",
   "metadata": {},
   "source": [
    "According to diffrence betwwen number of unique match_ids in MatchHomeTeamInfo  and MatchAWayTeamInfo tables, another way can be done for calculating the player with highest wins"
   ]
  },
  {
   "cell_type": "markdown",
   "metadata": {},
   "source": [
    "Importing required libraries"
   ]
  },
  {
   "cell_type": "code",
   "execution_count": 1,
   "metadata": {},
   "outputs": [],
   "source": [
    "import pandas as pd\n",
    "import numpy as np"
   ]
  },
  {
   "cell_type": "markdown",
   "metadata": {},
   "source": [
    "Reading requierd tables"
   ]
  },
  {
   "cell_type": "code",
   "execution_count": 2,
   "metadata": {},
   "outputs": [],
   "source": [
    "MatchEventInfo = pd.read_csv( 'C:/Users/Maedeh/Desktop/TenisMatchPro/data/interim3/MatchEventInfo.csv')\n",
    "MatchHomeTeamInfo = pd.read_csv( 'C:/Users/Maedeh/Desktop/TenisMatchPro/data/interim3/MatchHomeTeamInfo.csv')\n",
    "MatchAwayTeamInfo = pd.read_csv( 'C:/Users/Maedeh/Desktop/TenisMatchPro/data/interim3/MatchAwayTeamInfo.csv')"
   ]
  },
  {
   "cell_type": "markdown",
   "metadata": {},
   "source": [
    "Creating a data frame to show the number of player's win"
   ]
  },
  {
   "cell_type": "code",
   "execution_count": 102,
   "metadata": {},
   "outputs": [],
   "source": [
    "all_players = pd.concat ([MatchHomeTeamInfo , MatchAwayTeamInfo])\n",
    "player = pd.DataFrame(pd.concat([all_players['player_id'], all_players['name']], axis=1) , columns = ['player_id','name'])\n",
    "player = player.drop_duplicates (subset = 'player_id')\n",
    "player['no_win'] = 0"
   ]
  },
  {
   "cell_type": "markdown",
   "metadata": {},
   "source": [
    "Calculating number of players'win"
   ]
  },
  {
   "cell_type": "markdown",
   "metadata": {},
   "source": [
    "droping duplicated data and null winner-code and false result matches"
   ]
  },
  {
   "cell_type": "code",
   "execution_count": 103,
   "metadata": {},
   "outputs": [],
   "source": [
    "MatchHomeTeamInfo_dd = MatchHomeTeamInfo.drop_duplicates (subset = 'match_id')\n",
    "MatchAwayTeamInfo_dd = MatchAwayTeamInfo.drop_duplicates (subset = 'match_id')\n",
    "match_result = MatchEventInfo[['match_id' , 'winner_code']].loc[(MatchEventInfo['winner_code'].notnull())].drop_duplicates(subset='match_id')"
   ]
  },
  {
   "cell_type": "markdown",
   "metadata": {},
   "source": [
    "Calculating the number of wins for each player"
   ]
  },
  {
   "cell_type": "code",
   "execution_count": null,
   "metadata": {},
   "outputs": [],
   "source": [
    "for no in match_result['match_id']:\n",
    "        winer_code = match_result['winner_code'].loc[match_result['match_id'] == no]\n",
    "        if int(winer_code) == 1 :\n",
    "                if MatchHomeTeamInfo_dd['match_id'].isin([no]).any():   \n",
    "                        PI = int(MatchHomeTeamInfo_dd['player_id'].loc[MatchHomeTeamInfo_dd['match_id'] == no])\n",
    "                        player['no_win'].loc[player['player_id'] ==  PI] = player['no_win'].loc[player['player_id'] ==  PI] + 1\n",
    "        if int(winer_code) == 2 :\n",
    "                if MatchAwayTeamInfo_dd['match_id'].isin([no]).any():   \n",
    "                        PI = int(MatchAwayTeamInfo_dd['player_id'].loc[MatchAwayTeamInfo_dd['match_id'] == no])\n",
    "                        player['no_win'].loc[player['player_id'] ==  PI] = player['no_win'].loc[player['player_id'] ==  PI] + 1\n"
   ]
  },
  {
   "cell_type": "markdown",
   "metadata": {},
   "source": [
    "Reporting the best player with the most wins"
   ]
  },
  {
   "cell_type": "code",
   "execution_count": 105,
   "metadata": {},
   "outputs": [
    {
     "data": {
      "text/html": [
       "<div>\n",
       "<style scoped>\n",
       "    .dataframe tbody tr th:only-of-type {\n",
       "        vertical-align: middle;\n",
       "    }\n",
       "\n",
       "    .dataframe tbody tr th {\n",
       "        vertical-align: top;\n",
       "    }\n",
       "\n",
       "    .dataframe thead th {\n",
       "        text-align: right;\n",
       "    }\n",
       "</style>\n",
       "<table border=\"1\" class=\"dataframe\">\n",
       "  <thead>\n",
       "    <tr style=\"text-align: right;\">\n",
       "      <th></th>\n",
       "      <th>player_id</th>\n",
       "      <th>no_win</th>\n",
       "    </tr>\n",
       "  </thead>\n",
       "  <tbody>\n",
       "    <tr>\n",
       "      <th>count</th>\n",
       "      <td>2352.000000</td>\n",
       "      <td>2352.000000</td>\n",
       "    </tr>\n",
       "    <tr>\n",
       "      <th>mean</th>\n",
       "      <td>228564.081633</td>\n",
       "      <td>2.945578</td>\n",
       "    </tr>\n",
       "    <tr>\n",
       "      <th>std</th>\n",
       "      <td>123804.722447</td>\n",
       "      <td>2.667529</td>\n",
       "    </tr>\n",
       "    <tr>\n",
       "      <th>min</th>\n",
       "      <td>14414.000000</td>\n",
       "      <td>0.000000</td>\n",
       "    </tr>\n",
       "    <tr>\n",
       "      <th>25%</th>\n",
       "      <td>121006.000000</td>\n",
       "      <td>1.000000</td>\n",
       "    </tr>\n",
       "    <tr>\n",
       "      <th>50%</th>\n",
       "      <td>223483.500000</td>\n",
       "      <td>2.000000</td>\n",
       "    </tr>\n",
       "    <tr>\n",
       "      <th>75%</th>\n",
       "      <td>327054.250000</td>\n",
       "      <td>4.000000</td>\n",
       "    </tr>\n",
       "    <tr>\n",
       "      <th>max</th>\n",
       "      <td>510360.000000</td>\n",
       "      <td>18.000000</td>\n",
       "    </tr>\n",
       "  </tbody>\n",
       "</table>\n",
       "</div>"
      ],
      "text/plain": [
       "           player_id       no_win\n",
       "count    2352.000000  2352.000000\n",
       "mean   228564.081633     2.945578\n",
       "std    123804.722447     2.667529\n",
       "min     14414.000000     0.000000\n",
       "25%    121006.000000     1.000000\n",
       "50%    223483.500000     2.000000\n",
       "75%    327054.250000     4.000000\n",
       "max    510360.000000    18.000000"
      ]
     },
     "execution_count": 105,
     "metadata": {},
     "output_type": "execute_result"
    }
   ],
   "source": [
    "player.describe()"
   ]
  },
  {
   "cell_type": "code",
   "execution_count": 106,
   "metadata": {},
   "outputs": [
    {
     "name": "stdout",
     "output_type": "stream",
     "text": [
      "The highest number of wins is 18 which is gained by Uchijima M. with 253356 ID\n"
     ]
    }
   ],
   "source": [
    "best_win_no = player['no_win'].max()\n",
    "best_winer_id = player['player_id'].loc[player['no_win'] == player['no_win'].max()].values[0]\n",
    "best_winer_name = player['name'].loc[player['no_win'] == player['no_win'].max()].values[0]\n",
    "print (f'The highest number of wins is {best_win_no} which is gained by {best_winer_name} with {best_winer_id} ID')\n"
   ]
  }
 ],
 "metadata": {
  "kernelspec": {
   "display_name": "Python 3",
   "language": "python",
   "name": "python3"
  },
  "language_info": {
   "codemirror_mode": {
    "name": "ipython",
    "version": 3
   },
   "file_extension": ".py",
   "mimetype": "text/x-python",
   "name": "python",
   "nbconvert_exporter": "python",
   "pygments_lexer": "ipython3",
   "version": "3.12.2"
  }
 },
 "nbformat": 4,
 "nbformat_minor": 2
}
