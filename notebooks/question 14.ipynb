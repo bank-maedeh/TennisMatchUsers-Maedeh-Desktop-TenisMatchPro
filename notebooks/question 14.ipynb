{
 "cells": [
  {
   "cell_type": "markdown",
   "metadata": {},
   "source": [
    "**14. What is the most common type of surface used in tournaments?**\n"
   ]
  },
  {
   "cell_type": "code",
   "execution_count": 1,
   "metadata": {},
   "outputs": [],
   "source": [
    "import pandas as pd"
   ]
  },
  {
   "cell_type": "code",
   "execution_count": 3,
   "metadata": {},
   "outputs": [],
   "source": [
    "MatchTournamentInfo = pd.read_csv( 'C:/Users/Maedeh/Desktop/TenisMatchPro/data/external/MatchTournamentInfo.csv')"
   ]
  },
  {
   "cell_type": "markdown",
   "metadata": {},
   "source": [
    "Count the occurrences of each ground type and  Identify the most common surface type"
   ]
  },
  {
   "cell_type": "code",
   "execution_count": 4,
   "metadata": {},
   "outputs": [
    {
     "name": "stdout",
     "output_type": "stream",
     "text": [
      "The most common type of surface used in tournaments is: Red clay\n",
      "Number of tournaments using this surface: 14545\n"
     ]
    }
   ],
   "source": [
    "surface_counts = MatchTournamentInfo['ground_type'].value_counts()#\n",
    "most_common_surface = surface_counts.idxmax()\n",
    "most_common_surface_count = surface_counts.max()\n",
    "\n",
    "print(f\"The most common type of surface used in tournaments is: {most_common_surface}\")\n",
    "print(f\"Number of tournaments using this surface: {most_common_surface_count}\")"
   ]
  }
 ],
 "metadata": {
  "kernelspec": {
   "display_name": "Python 3",
   "language": "python",
   "name": "python3"
  },
  "language_info": {
   "codemirror_mode": {
    "name": "ipython",
    "version": 3
   },
   "file_extension": ".py",
   "mimetype": "text/x-python",
   "name": "python",
   "nbconvert_exporter": "python",
   "pygments_lexer": "ipython3",
   "version": "3.12.2"
  }
 },
 "nbformat": 4,
 "nbformat_minor": 2
}
