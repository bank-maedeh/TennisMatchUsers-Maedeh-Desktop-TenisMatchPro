{
 "cells": [
  {
   "cell_type": "markdown",
   "metadata": {},
   "source": [
    "**2.What percentage of games have been played by women?**"
   ]
  },
  {
   "cell_type": "markdown",
   "metadata": {},
   "source": [
    "Importing required libraries"
   ]
  },
  {
   "cell_type": "code",
   "execution_count": 2,
   "metadata": {},
   "outputs": [],
   "source": [
    "import pandas as pd\n",
    "import numpy as np"
   ]
  },
  {
   "cell_type": "markdown",
   "metadata": {},
   "source": [
    "Reading requierd tables"
   ]
  },
  {
   "cell_type": "code",
   "execution_count": 3,
   "metadata": {},
   "outputs": [],
   "source": [
    "MatchEventInfo = pd.read_csv( 'C:/Users/Maedeh/Desktop/TenisMatchPro/data/interim3/MatchEventInfo.csv')\n",
    "MatchHomeTeamInfo = pd.read_csv( 'C:/Users/Maedeh/Desktop/TenisMatchPro/data/interim3/MatchHomeTeamInfo.csv')\n",
    "MatchAwayTeamInfo = pd.read_csv( 'C:/Users/Maedeh/Desktop/TenisMatchPro/data/interim3/MatchAwayTeamInfo.csv')"
   ]
  },
  {
   "cell_type": "markdown",
   "metadata": {},
   "source": [
    "**Calculating number of players'win**"
   ]
  },
  {
   "cell_type": "markdown",
   "metadata": {},
   "source": [
    "droping duplicated data"
   ]
  },
  {
   "cell_type": "code",
   "execution_count": 4,
   "metadata": {},
   "outputs": [],
   "source": [
    "MatchHomeTeamInfo_dd = MatchHomeTeamInfo.drop_duplicates (subset = 'match_id')\n",
    "MatchAwayTeamInfo_dd = MatchAwayTeamInfo.drop_duplicates (subset = 'match_id')\n",
    "MatchEventInfo_dd = MatchEventInfo.drop_duplicates ()"
   ]
  },
  {
   "cell_type": "markdown",
   "metadata": {},
   "source": [
    "Merging the tables"
   ]
  },
  {
   "cell_type": "code",
   "execution_count": 17,
   "metadata": {},
   "outputs": [
    {
     "data": {
      "text/html": [
       "<div>\n",
       "<style scoped>\n",
       "    .dataframe tbody tr th:only-of-type {\n",
       "        vertical-align: middle;\n",
       "    }\n",
       "\n",
       "    .dataframe tbody tr th {\n",
       "        vertical-align: top;\n",
       "    }\n",
       "\n",
       "    .dataframe thead th {\n",
       "        text-align: right;\n",
       "    }\n",
       "</style>\n",
       "<table border=\"1\" class=\"dataframe\">\n",
       "  <thead>\n",
       "    <tr style=\"text-align: right;\">\n",
       "      <th></th>\n",
       "      <th>match_id</th>\n",
       "      <th>player_id_x</th>\n",
       "      <th>gender_x</th>\n",
       "      <th>player_id_y</th>\n",
       "      <th>gender_y</th>\n",
       "      <th>winner_code</th>\n",
       "    </tr>\n",
       "  </thead>\n",
       "  <tbody>\n",
       "    <tr>\n",
       "      <th>0</th>\n",
       "      <td>12260075</td>\n",
       "      <td>14486</td>\n",
       "      <td>M</td>\n",
       "      <td>254742</td>\n",
       "      <td>M</td>\n",
       "      <td>2.0</td>\n",
       "    </tr>\n",
       "    <tr>\n",
       "      <th>1</th>\n",
       "      <td>12260076</td>\n",
       "      <td>206570</td>\n",
       "      <td>M</td>\n",
       "      <td>90080</td>\n",
       "      <td>M</td>\n",
       "      <td>1.0</td>\n",
       "    </tr>\n",
       "    <tr>\n",
       "      <th>2</th>\n",
       "      <td>12260077</td>\n",
       "      <td>46391</td>\n",
       "      <td>M</td>\n",
       "      <td>275923</td>\n",
       "      <td>M</td>\n",
       "      <td>2.0</td>\n",
       "    </tr>\n",
       "    <tr>\n",
       "      <th>3</th>\n",
       "      <td>12260078</td>\n",
       "      <td>106755</td>\n",
       "      <td>M</td>\n",
       "      <td>275923</td>\n",
       "      <td>M</td>\n",
       "      <td>1.0</td>\n",
       "    </tr>\n",
       "    <tr>\n",
       "      <th>5</th>\n",
       "      <td>12260080</td>\n",
       "      <td>221012</td>\n",
       "      <td>M</td>\n",
       "      <td>57163</td>\n",
       "      <td>M</td>\n",
       "      <td>1.0</td>\n",
       "    </tr>\n",
       "  </tbody>\n",
       "</table>\n",
       "</div>"
      ],
      "text/plain": [
       "   match_id  player_id_x gender_x  player_id_y gender_y  winner_code\n",
       "0  12260075        14486        M       254742        M          2.0\n",
       "1  12260076       206570        M        90080        M          1.0\n",
       "2  12260077        46391        M       275923        M          2.0\n",
       "3  12260078       106755        M       275923        M          1.0\n",
       "5  12260080       221012        M        57163        M          1.0"
      ]
     },
     "execution_count": 17,
     "metadata": {},
     "output_type": "execute_result"
    }
   ],
   "source": [
    "merged_HW = MatchHomeTeamInfo_dd[['match_id' ,\n",
    "                                  'player_id' , 'gender']].merge(MatchAwayTeamInfo_dd[['match_id' ,\n",
    "                                                                            'player_id', 'gender']],\n",
    "                                                                             on ='match_id').drop_duplicates(subset='match_id')\n",
    "merged_EHW = merged_HW[['match_id' ,\n",
    "                        'player_id_x' , 'gender_x', 'player_id_y', 'gender_y']].merge(MatchEventInfo_dd[['match_id',\n",
    "                                                                                 'winner_code']],\n",
    "                                                                                  on ='match_id').drop_duplicates(subset='match_id')\n",
    "merged_EHW = merged_EHW.dropna()\n",
    "merged_EHW.head()"
   ]
  },
  {
   "cell_type": "markdown",
   "metadata": {},
   "source": [
    "Mapping the winner_code values"
   ]
  },
  {
   "cell_type": "code",
   "execution_count": 22,
   "metadata": {},
   "outputs": [],
   "source": [
    "merged_EHW['winner_id'] = merged_EHW.apply( lambda x : x['player_id_x']  if x['winner_code']==1 else x['player_id_y'] , axis = 1)"
   ]
  },
  {
   "cell_type": "code",
   "execution_count": 23,
   "metadata": {},
   "outputs": [
    {
     "data": {
      "text/html": [
       "<div>\n",
       "<style scoped>\n",
       "    .dataframe tbody tr th:only-of-type {\n",
       "        vertical-align: middle;\n",
       "    }\n",
       "\n",
       "    .dataframe tbody tr th {\n",
       "        vertical-align: top;\n",
       "    }\n",
       "\n",
       "    .dataframe thead th {\n",
       "        text-align: right;\n",
       "    }\n",
       "</style>\n",
       "<table border=\"1\" class=\"dataframe\">\n",
       "  <thead>\n",
       "    <tr style=\"text-align: right;\">\n",
       "      <th></th>\n",
       "      <th>match_id</th>\n",
       "      <th>player_id_x</th>\n",
       "      <th>gender_x</th>\n",
       "      <th>player_id_y</th>\n",
       "      <th>gender_y</th>\n",
       "      <th>winner_code</th>\n",
       "      <th>winner_id</th>\n",
       "    </tr>\n",
       "  </thead>\n",
       "  <tbody>\n",
       "    <tr>\n",
       "      <th>0</th>\n",
       "      <td>12260075</td>\n",
       "      <td>14486</td>\n",
       "      <td>M</td>\n",
       "      <td>254742</td>\n",
       "      <td>M</td>\n",
       "      <td>2.0</td>\n",
       "      <td>254742</td>\n",
       "    </tr>\n",
       "    <tr>\n",
       "      <th>1</th>\n",
       "      <td>12260076</td>\n",
       "      <td>206570</td>\n",
       "      <td>M</td>\n",
       "      <td>90080</td>\n",
       "      <td>M</td>\n",
       "      <td>1.0</td>\n",
       "      <td>206570</td>\n",
       "    </tr>\n",
       "    <tr>\n",
       "      <th>2</th>\n",
       "      <td>12260077</td>\n",
       "      <td>46391</td>\n",
       "      <td>M</td>\n",
       "      <td>275923</td>\n",
       "      <td>M</td>\n",
       "      <td>2.0</td>\n",
       "      <td>275923</td>\n",
       "    </tr>\n",
       "    <tr>\n",
       "      <th>3</th>\n",
       "      <td>12260078</td>\n",
       "      <td>106755</td>\n",
       "      <td>M</td>\n",
       "      <td>275923</td>\n",
       "      <td>M</td>\n",
       "      <td>1.0</td>\n",
       "      <td>106755</td>\n",
       "    </tr>\n",
       "    <tr>\n",
       "      <th>5</th>\n",
       "      <td>12260080</td>\n",
       "      <td>221012</td>\n",
       "      <td>M</td>\n",
       "      <td>57163</td>\n",
       "      <td>M</td>\n",
       "      <td>1.0</td>\n",
       "      <td>221012</td>\n",
       "    </tr>\n",
       "  </tbody>\n",
       "</table>\n",
       "</div>"
      ],
      "text/plain": [
       "   match_id  player_id_x gender_x  player_id_y gender_y  winner_code  \\\n",
       "0  12260075        14486        M       254742        M          2.0   \n",
       "1  12260076       206570        M        90080        M          1.0   \n",
       "2  12260077        46391        M       275923        M          2.0   \n",
       "3  12260078       106755        M       275923        M          1.0   \n",
       "5  12260080       221012        M        57163        M          1.0   \n",
       "\n",
       "   winner_id  \n",
       "0     254742  \n",
       "1     206570  \n",
       "2     275923  \n",
       "3     106755  \n",
       "5     221012  "
      ]
     },
     "execution_count": 23,
     "metadata": {},
     "output_type": "execute_result"
    }
   ],
   "source": [
    "merged_EHW.head()"
   ]
  },
  {
   "cell_type": "markdown",
   "metadata": {},
   "source": [
    "Creating a data frame to show the number of player's win"
   ]
  },
  {
   "cell_type": "code",
   "execution_count": null,
   "metadata": {},
   "outputs": [],
   "source": [
    "player = pd.concat ([MatchHomeTeamInfo[['player_id', 'gender']] , MatchAwayTeamInfo[['player_id', 'gender']]]).drop_duplicates(subset = 'player_id')\n",
    "player['no_win'] = 0\n",
    "for no in player['player_id']:\n",
    "    player['no_win'].loc[player['player_id'] == no] = merged_EHW['match_id'].loc[merged_EHW['winner_id'] == no].count()"
   ]
  },
  {
   "cell_type": "code",
   "execution_count": 54,
   "metadata": {},
   "outputs": [],
   "source": [
    "AVG_W = (player['gender'] == 'F').sum() / len(player['gender'])"
   ]
  },
  {
   "cell_type": "markdown",
   "metadata": {},
   "source": [
    "**Reporting Percentage of wemon matches**"
   ]
  },
  {
   "cell_type": "code",
   "execution_count": 55,
   "metadata": {},
   "outputs": [
    {
     "name": "stdout",
     "output_type": "stream",
     "text": [
      "0.48299319727891155 % of matches have been played by women\n"
     ]
    }
   ],
   "source": [
    "print (f'{AVG_W} % of matches have been played by women')\n"
   ]
  }
 ],
 "metadata": {
  "kernelspec": {
   "display_name": "Python 3",
   "language": "python",
   "name": "python3"
  },
  "language_info": {
   "codemirror_mode": {
    "name": "ipython",
    "version": 3
   },
   "file_extension": ".py",
   "mimetype": "text/x-python",
   "name": "python",
   "nbconvert_exporter": "python",
   "pygments_lexer": "ipython3",
   "version": "3.12.2"
  }
 },
 "nbformat": 4,
 "nbformat_minor": 2
}
