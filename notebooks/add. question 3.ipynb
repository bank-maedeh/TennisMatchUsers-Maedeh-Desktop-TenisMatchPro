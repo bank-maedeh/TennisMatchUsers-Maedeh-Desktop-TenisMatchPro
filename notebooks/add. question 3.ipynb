{
 "cells": [
  {
   "cell_type": "markdown",
   "metadata": {},
   "source": [
    "**3.\tWhich tournament has the highest number of votes?**"
   ]
  },
  {
   "cell_type": "markdown",
   "metadata": {},
   "source": [
    "Importing required libraries"
   ]
  },
  {
   "cell_type": "code",
   "execution_count": 1,
   "metadata": {},
   "outputs": [],
   "source": [
    "import pandas as pd\n",
    "import numpy as np"
   ]
  },
  {
   "cell_type": "markdown",
   "metadata": {},
   "source": [
    "Reading requierd tables and droping duplicated"
   ]
  },
  {
   "cell_type": "code",
   "execution_count": 2,
   "metadata": {},
   "outputs": [],
   "source": [
    "MatchVoteInfo = pd.read_csv( 'C:/Users/Maedeh/Desktop/TenisMatchPro/data/interim3/MatchVotesInfo.csv')\n",
    "MatchTournamentInfo = pd.read_csv( 'C:/Users/Maedeh/Desktop/TenisMatchPro/data/interim3/MatchTournamentInfo.csv')\n",
    "MatchVoteInfo_dd = MatchVoteInfo.drop_duplicates (subset = 'match_id')\n",
    "MatchTournamentInfo_dd = MatchTournamentInfo.drop_duplicates (subset = 'match_id')"
   ]
  },
  {
   "cell_type": "markdown",
   "metadata": {},
   "source": [
    "**Calculating the votes of each match**"
   ]
  },
  {
   "cell_type": "code",
   "execution_count": null,
   "metadata": {},
   "outputs": [],
   "source": [
    "MatchVoteInfo_dd['total_vote'] = MatchVoteInfo_dd.apply( lambda x : x['home_vote'] + x['away_vote'] , axis = 1)\n",
    "MatchVoteInfo_dd['tour_id'] = MatchTournamentInfo_dd.apply( lambda x : x['tournament_id']   , axis = 1)\n",
    "MatchVoteInfo_dd['tour_name'] = MatchTournamentInfo_dd.apply( lambda x : x['tournament_name']  , axis = 1)\n"
   ]
  },
  {
   "cell_type": "code",
   "execution_count": 4,
   "metadata": {},
   "outputs": [
    {
     "data": {
      "text/html": [
       "<div>\n",
       "<style scoped>\n",
       "    .dataframe tbody tr th:only-of-type {\n",
       "        vertical-align: middle;\n",
       "    }\n",
       "\n",
       "    .dataframe tbody tr th {\n",
       "        vertical-align: top;\n",
       "    }\n",
       "\n",
       "    .dataframe thead th {\n",
       "        text-align: right;\n",
       "    }\n",
       "</style>\n",
       "<table border=\"1\" class=\"dataframe\">\n",
       "  <thead>\n",
       "    <tr style=\"text-align: right;\">\n",
       "      <th></th>\n",
       "      <th>match_id</th>\n",
       "      <th>home_vote</th>\n",
       "      <th>away_vote</th>\n",
       "      <th>total_vote</th>\n",
       "      <th>tour_id</th>\n",
       "      <th>tour_name</th>\n",
       "    </tr>\n",
       "  </thead>\n",
       "  <tbody>\n",
       "    <tr>\n",
       "      <th>0</th>\n",
       "      <td>12260075</td>\n",
       "      <td>5926</td>\n",
       "      <td>8590</td>\n",
       "      <td>14516</td>\n",
       "      <td>129164.0</td>\n",
       "      <td>Madrid, Spain</td>\n",
       "    </tr>\n",
       "    <tr>\n",
       "      <th>1</th>\n",
       "      <td>12260076</td>\n",
       "      <td>7974</td>\n",
       "      <td>1618</td>\n",
       "      <td>9592</td>\n",
       "      <td>129164.0</td>\n",
       "      <td>Madrid, Spain</td>\n",
       "    </tr>\n",
       "    <tr>\n",
       "      <th>2</th>\n",
       "      <td>12260077</td>\n",
       "      <td>5378</td>\n",
       "      <td>3602</td>\n",
       "      <td>8980</td>\n",
       "      <td>129164.0</td>\n",
       "      <td>Madrid, Spain</td>\n",
       "    </tr>\n",
       "    <tr>\n",
       "      <th>3</th>\n",
       "      <td>12260078</td>\n",
       "      <td>2458</td>\n",
       "      <td>4290</td>\n",
       "      <td>6748</td>\n",
       "      <td>129164.0</td>\n",
       "      <td>Madrid, Spain</td>\n",
       "    </tr>\n",
       "    <tr>\n",
       "      <th>4</th>\n",
       "      <td>12260080</td>\n",
       "      <td>2074</td>\n",
       "      <td>11490</td>\n",
       "      <td>13564</td>\n",
       "      <td>129164.0</td>\n",
       "      <td>Madrid, Spain</td>\n",
       "    </tr>\n",
       "  </tbody>\n",
       "</table>\n",
       "</div>"
      ],
      "text/plain": [
       "   match_id  home_vote  away_vote  total_vote   tour_id      tour_name\n",
       "0  12260075       5926       8590       14516  129164.0  Madrid, Spain\n",
       "1  12260076       7974       1618        9592  129164.0  Madrid, Spain\n",
       "2  12260077       5378       3602        8980  129164.0  Madrid, Spain\n",
       "3  12260078       2458       4290        6748  129164.0  Madrid, Spain\n",
       "4  12260080       2074      11490       13564  129164.0  Madrid, Spain"
      ]
     },
     "execution_count": 4,
     "metadata": {},
     "output_type": "execute_result"
    }
   ],
   "source": [
    "MatchVoteInfo_dd.head()"
   ]
  },
  {
   "cell_type": "markdown",
   "metadata": {},
   "source": [
    "Calculating number of votes for each tournament"
   ]
  },
  {
   "cell_type": "code",
   "execution_count": 5,
   "metadata": {},
   "outputs": [
    {
     "data": {
      "text/html": [
       "<div>\n",
       "<style scoped>\n",
       "    .dataframe tbody tr th:only-of-type {\n",
       "        vertical-align: middle;\n",
       "    }\n",
       "\n",
       "    .dataframe tbody tr th {\n",
       "        vertical-align: top;\n",
       "    }\n",
       "\n",
       "    .dataframe thead th {\n",
       "        text-align: right;\n",
       "    }\n",
       "</style>\n",
       "<table border=\"1\" class=\"dataframe\">\n",
       "  <thead>\n",
       "    <tr style=\"text-align: right;\">\n",
       "      <th></th>\n",
       "      <th>tour_vote</th>\n",
       "    </tr>\n",
       "    <tr>\n",
       "      <th>tour_id</th>\n",
       "      <th></th>\n",
       "    </tr>\n",
       "  </thead>\n",
       "  <tbody>\n",
       "    <tr>\n",
       "      <th>129164.0</th>\n",
       "      <td>128296</td>\n",
       "    </tr>\n",
       "    <tr>\n",
       "      <th>129201.0</th>\n",
       "      <td>44560</td>\n",
       "    </tr>\n",
       "    <tr>\n",
       "      <th>129510.0</th>\n",
       "      <td>13746</td>\n",
       "    </tr>\n",
       "    <tr>\n",
       "      <th>129514.0</th>\n",
       "      <td>17026</td>\n",
       "    </tr>\n",
       "    <tr>\n",
       "      <th>129515.0</th>\n",
       "      <td>1916</td>\n",
       "    </tr>\n",
       "  </tbody>\n",
       "</table>\n",
       "</div>"
      ],
      "text/plain": [
       "          tour_vote\n",
       "tour_id            \n",
       "129164.0     128296\n",
       "129201.0      44560\n",
       "129510.0      13746\n",
       "129514.0      17026\n",
       "129515.0       1916"
      ]
     },
     "execution_count": 5,
     "metadata": {},
     "output_type": "execute_result"
    }
   ],
   "source": [
    "count_tour = pd.DataFrame()\n",
    "count_tour ['tour_vote'] = MatchVoteInfo_dd.groupby(['tour_id'] )['total_vote'].sum()\n",
    "count_tour.head()"
   ]
  },
  {
   "cell_type": "markdown",
   "metadata": {},
   "source": [
    "**Reporting tournomant with most votes**"
   ]
  },
  {
   "cell_type": "code",
   "execution_count": 8,
   "metadata": {},
   "outputs": [
    {
     "name": "stdout",
     "output_type": "stream",
     "text": [
      "129829.0 is the id of tournomant with max number of votes and its name is Rome, Italy\n"
     ]
    }
   ],
   "source": [
    "max = count_tour['tour_vote'].max()\n",
    "ID = count_tour['tour_vote'].idxmax()\n",
    "name = MatchVoteInfo_dd['tour_name'].loc[MatchVoteInfo_dd['tour_id'] == ID].unique()[0]\n",
    "print(f'{ID} is the id of tournomant with max number of votes and its name is {name}')\n"
   ]
  }
 ],
 "metadata": {
  "kernelspec": {
   "display_name": "Python 3",
   "language": "python",
   "name": "python3"
  },
  "language_info": {
   "codemirror_mode": {
    "name": "ipython",
    "version": 3
   },
   "file_extension": ".py",
   "mimetype": "text/x-python",
   "name": "python",
   "nbconvert_exporter": "python",
   "pygments_lexer": "ipython3",
   "version": "3.12.2"
  }
 },
 "nbformat": 4,
 "nbformat_minor": 2
}
