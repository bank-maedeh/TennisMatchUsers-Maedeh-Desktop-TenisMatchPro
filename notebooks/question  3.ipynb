{
 "cells": [
  {
   "cell_type": "markdown",
   "metadata": {},
   "source": [
    "**3.\tWhich player has the highest number of wins?**"
   ]
  },
  {
   "cell_type": "markdown",
   "metadata": {},
   "source": [
    "Importing required libraries"
   ]
  },
  {
   "cell_type": "code",
   "execution_count": 1,
   "metadata": {},
   "outputs": [],
   "source": [
    "import pandas as pd\n",
    "import numpy as np"
   ]
  },
  {
   "cell_type": "markdown",
   "metadata": {},
   "source": [
    "Reading requierd tables"
   ]
  },
  {
   "cell_type": "code",
   "execution_count": 2,
   "metadata": {},
   "outputs": [],
   "source": [
    "MatchEventInfo = pd.read_csv( 'C:/Users/Maedeh/Desktop/TenisMatchPro/data/interim3/MatchEventInfo.csv')\n",
    "MatchHomeTeamInfo = pd.read_csv( 'C:/Users/Maedeh/Desktop/TenisMatchPro/data/interim3/MatchHomeTeamInfo.csv')\n",
    "MatchAwayTeamInfo = pd.read_csv( 'C:/Users/Maedeh/Desktop/TenisMatchPro/data/interim3/MatchAwayTeamInfo.csv')"
   ]
  },
  {
   "cell_type": "markdown",
   "metadata": {},
   "source": [
    "Creating a data frame to show the number of player's win"
   ]
  },
  {
   "cell_type": "code",
   "execution_count": 3,
   "metadata": {},
   "outputs": [],
   "source": [
    "all_players = pd.concat ([MatchHomeTeamInfo , MatchAwayTeamInfo])\n",
    "player = pd.DataFrame(pd.concat([all_players['player_id'], all_players['name']], axis=1) , columns = ['player_id','name'])\n",
    "player = player.drop_duplicates (subset = 'player_id')\n",
    "player['no_win'] = 0"
   ]
  },
  {
   "cell_type": "markdown",
   "metadata": {},
   "source": [
    "Calculating number of players'win"
   ]
  },
  {
   "cell_type": "code",
   "execution_count": 5,
   "metadata": {},
   "outputs": [],
   "source": [
    "#droping duplicated data\n",
    "MatchHomeTeamInfo_dd = MatchHomeTeamInfo.drop_duplicates (subset = 'match_id')\n",
    "MatchAwayTeamInfo_dd = MatchAwayTeamInfo.drop_duplicates (subset = 'match_id')\n",
    "MatchEventInfo_dd = MatchEventInfo.drop_duplicates ()\n",
    "#Obtaining the list of match ids that have the required data for recognizing the winner\n",
    "match_ids = MatchEventInfo_dd['match_id'].unique()\n",
    "inter_match_id =  np.intersect1d(np.intersect1d((MatchAwayTeamInfo_dd['match_id']) , MatchHomeTeamInfo_dd['match_id']), match_ids)\n",
    "# making a data frame with the obtained match ids\n",
    "match_res = MatchEventInfo_dd[MatchEventInfo_dd['match_id'].isin(inter_match_id)].drop_duplicates( subset = 'match_id')\n",
    "match_result = match_res.loc[(MatchEventInfo_dd['winner_code'].notnull())]"
   ]
  },
  {
   "cell_type": "markdown",
   "metadata": {},
   "source": [
    "Calculating the number of wins for each player"
   ]
  },
  {
   "cell_type": "code",
   "execution_count": null,
   "metadata": {},
   "outputs": [],
   "source": [
    "for no in match_result['match_id']:\n",
    "        winer_code = match_result['winner_code'].loc[match_result['match_id'] == no]\n",
    "        if int(winer_code) == 1 :\n",
    "                PI = int(MatchHomeTeamInfo_dd['player_id'].loc[MatchHomeTeamInfo_dd['match_id'] == no])\n",
    "                player['no_win'].loc[player['player_id'] ==  PI] = player['no_win'].loc[player['player_id'] ==  PI] + 1\n",
    "        if int(winer_code) == 2 :\n",
    "                PI = int(MatchAwayTeamInfo_dd['player_id'].loc[MatchAwayTeamInfo_dd['match_id'] == no])\n",
    "                player['no_win'].loc[player['player_id'] ==  PI] = player['no_win'].loc[player['player_id'] ==  PI] + 1"
   ]
  },
  {
   "cell_type": "markdown",
   "metadata": {},
   "source": [
    "Reporting the best player with the most wins"
   ]
  },
  {
   "cell_type": "code",
   "execution_count": 7,
   "metadata": {},
   "outputs": [
    {
     "data": {
      "text/html": [
       "<div>\n",
       "<style scoped>\n",
       "    .dataframe tbody tr th:only-of-type {\n",
       "        vertical-align: middle;\n",
       "    }\n",
       "\n",
       "    .dataframe tbody tr th {\n",
       "        vertical-align: top;\n",
       "    }\n",
       "\n",
       "    .dataframe thead th {\n",
       "        text-align: right;\n",
       "    }\n",
       "</style>\n",
       "<table border=\"1\" class=\"dataframe\">\n",
       "  <thead>\n",
       "    <tr style=\"text-align: right;\">\n",
       "      <th></th>\n",
       "      <th>player_id</th>\n",
       "      <th>no_win</th>\n",
       "    </tr>\n",
       "  </thead>\n",
       "  <tbody>\n",
       "    <tr>\n",
       "      <th>count</th>\n",
       "      <td>2352.000000</td>\n",
       "      <td>2352.000000</td>\n",
       "    </tr>\n",
       "    <tr>\n",
       "      <th>mean</th>\n",
       "      <td>228564.081633</td>\n",
       "      <td>1.849490</td>\n",
       "    </tr>\n",
       "    <tr>\n",
       "      <th>std</th>\n",
       "      <td>123804.722447</td>\n",
       "      <td>2.176077</td>\n",
       "    </tr>\n",
       "    <tr>\n",
       "      <th>min</th>\n",
       "      <td>14414.000000</td>\n",
       "      <td>0.000000</td>\n",
       "    </tr>\n",
       "    <tr>\n",
       "      <th>25%</th>\n",
       "      <td>121006.000000</td>\n",
       "      <td>0.000000</td>\n",
       "    </tr>\n",
       "    <tr>\n",
       "      <th>50%</th>\n",
       "      <td>223483.500000</td>\n",
       "      <td>1.000000</td>\n",
       "    </tr>\n",
       "    <tr>\n",
       "      <th>75%</th>\n",
       "      <td>327054.250000</td>\n",
       "      <td>3.000000</td>\n",
       "    </tr>\n",
       "    <tr>\n",
       "      <th>max</th>\n",
       "      <td>510360.000000</td>\n",
       "      <td>17.000000</td>\n",
       "    </tr>\n",
       "  </tbody>\n",
       "</table>\n",
       "</div>"
      ],
      "text/plain": [
       "           player_id       no_win\n",
       "count    2352.000000  2352.000000\n",
       "mean   228564.081633     1.849490\n",
       "std    123804.722447     2.176077\n",
       "min     14414.000000     0.000000\n",
       "25%    121006.000000     0.000000\n",
       "50%    223483.500000     1.000000\n",
       "75%    327054.250000     3.000000\n",
       "max    510360.000000    17.000000"
      ]
     },
     "execution_count": 7,
     "metadata": {},
     "output_type": "execute_result"
    }
   ],
   "source": [
    "player.describe()"
   ]
  },
  {
   "cell_type": "code",
   "execution_count": 8,
   "metadata": {},
   "outputs": [
    {
     "name": "stdout",
     "output_type": "stream",
     "text": [
      "The highest number of wins is 17 which is gained by Uchijima M. with 253356 ID\n"
     ]
    }
   ],
   "source": [
    "best_win_no = player['no_win'].max()\n",
    "best_winer_id = player['player_id'].loc[player['no_win'] == player['no_win'].max()].values[0]\n",
    "best_winer_name = player['name'].loc[player['no_win'] == player['no_win'].max()].values[0]\n",
    "print (f'The highest number of wins is {best_win_no} which is gained by {best_winer_name} with {best_winer_id} ID')\n"
   ]
  }
 ],
 "metadata": {
  "kernelspec": {
   "display_name": "Python 3",
   "language": "python",
   "name": "python3"
  },
  "language_info": {
   "codemirror_mode": {
    "name": "ipython",
    "version": 3
   },
   "file_extension": ".py",
   "mimetype": "text/x-python",
   "name": "python",
   "nbconvert_exporter": "python",
   "pygments_lexer": "ipython3",
   "version": "3.12.2"
  }
 },
 "nbformat": 4,
 "nbformat_minor": 2
}
