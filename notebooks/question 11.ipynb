{
 "cells": [
  {
   "cell_type": "markdown",
   "metadata": {},
   "source": [
    "**11.\tWhat is the average duration of matches?**"
   ]
  },
  {
   "cell_type": "code",
   "execution_count": 15,
   "metadata": {},
   "outputs": [],
   "source": [
    "import pandas as pd\n",
    "import matplotlib.pyplot as plt\n",
    "import scipy.stats as stats\n"
   ]
  },
  {
   "cell_type": "markdown",
   "metadata": {},
   "source": [
    "Reading requierde tables"
   ]
  },
  {
   "cell_type": "code",
   "execution_count": 3,
   "metadata": {},
   "outputs": [],
   "source": [
    "MatchTimeInfo = pd.read_csv( 'C:/Users/Maedeh/Desktop/TenisMatchPro/data/external/MatchTimeInfo.csv')"
   ]
  },
  {
   "cell_type": "code",
   "execution_count": 4,
   "metadata": {},
   "outputs": [
    {
     "data": {
      "text/html": [
       "<div>\n",
       "<style scoped>\n",
       "    .dataframe tbody tr th:only-of-type {\n",
       "        vertical-align: middle;\n",
       "    }\n",
       "\n",
       "    .dataframe tbody tr th {\n",
       "        vertical-align: top;\n",
       "    }\n",
       "\n",
       "    .dataframe thead th {\n",
       "        text-align: right;\n",
       "    }\n",
       "</style>\n",
       "<table border=\"1\" class=\"dataframe\">\n",
       "  <thead>\n",
       "    <tr style=\"text-align: right;\">\n",
       "      <th></th>\n",
       "      <th>match_id</th>\n",
       "      <th>period_1</th>\n",
       "      <th>period_2</th>\n",
       "      <th>period_3</th>\n",
       "      <th>period_4</th>\n",
       "      <th>period_5</th>\n",
       "      <th>current_period_start_timestamp</th>\n",
       "    </tr>\n",
       "  </thead>\n",
       "  <tbody>\n",
       "    <tr>\n",
       "      <th>0</th>\n",
       "      <td>12260075</td>\n",
       "      <td>3463.0</td>\n",
       "      <td>3855.0</td>\n",
       "      <td>NaN</td>\n",
       "      <td>NaN</td>\n",
       "      <td>NaN</td>\n",
       "      <td>1.714511e+09</td>\n",
       "    </tr>\n",
       "    <tr>\n",
       "      <th>1</th>\n",
       "      <td>12260076</td>\n",
       "      <td>3032.0</td>\n",
       "      <td>2121.0</td>\n",
       "      <td>2674.0</td>\n",
       "      <td>NaN</td>\n",
       "      <td>NaN</td>\n",
       "      <td>1.714492e+09</td>\n",
       "    </tr>\n",
       "    <tr>\n",
       "      <th>2</th>\n",
       "      <td>12260077</td>\n",
       "      <td>2747.0</td>\n",
       "      <td>3525.0</td>\n",
       "      <td>4074.0</td>\n",
       "      <td>NaN</td>\n",
       "      <td>NaN</td>\n",
       "      <td>1.714492e+09</td>\n",
       "    </tr>\n",
       "    <tr>\n",
       "      <th>3</th>\n",
       "      <td>12260078</td>\n",
       "      <td>2519.0</td>\n",
       "      <td>2531.0</td>\n",
       "      <td>2121.0</td>\n",
       "      <td>NaN</td>\n",
       "      <td>NaN</td>\n",
       "      <td>1.714578e+09</td>\n",
       "    </tr>\n",
       "    <tr>\n",
       "      <th>4</th>\n",
       "      <td>12260080</td>\n",
       "      <td>2616.0</td>\n",
       "      <td>2766.0</td>\n",
       "      <td>NaN</td>\n",
       "      <td>NaN</td>\n",
       "      <td>NaN</td>\n",
       "      <td>1.714483e+09</td>\n",
       "    </tr>\n",
       "  </tbody>\n",
       "</table>\n",
       "</div>"
      ],
      "text/plain": [
       "   match_id  period_1  period_2  period_3  period_4  period_5  \\\n",
       "0  12260075    3463.0    3855.0       NaN       NaN       NaN   \n",
       "1  12260076    3032.0    2121.0    2674.0       NaN       NaN   \n",
       "2  12260077    2747.0    3525.0    4074.0       NaN       NaN   \n",
       "3  12260078    2519.0    2531.0    2121.0       NaN       NaN   \n",
       "4  12260080    2616.0    2766.0       NaN       NaN       NaN   \n",
       "\n",
       "   current_period_start_timestamp  \n",
       "0                    1.714511e+09  \n",
       "1                    1.714492e+09  \n",
       "2                    1.714492e+09  \n",
       "3                    1.714578e+09  \n",
       "4                    1.714483e+09  "
      ]
     },
     "execution_count": 4,
     "metadata": {},
     "output_type": "execute_result"
    }
   ],
   "source": [
    "MatchTimeInfo.head()"
   ]
  },
  {
   "cell_type": "markdown",
   "metadata": {},
   "source": [
    "**Calculating match duration**\n",
    "\n",
    "Each finished match should have 2 sets at least ,so the records with less than 2 period have been \n",
    "after recognizing finished matches , there are sum duplicated data for several matches that should by droped."
   ]
  },
  {
   "cell_type": "code",
   "execution_count": 5,
   "metadata": {},
   "outputs": [
    {
     "name": "stdout",
     "output_type": "stream",
     "text": [
      "<class 'pandas.core.frame.DataFrame'>\n",
      "Index: 6636 entries, 0 to 19672\n",
      "Data columns (total 7 columns):\n",
      " #   Column                          Non-Null Count  Dtype  \n",
      "---  ------                          --------------  -----  \n",
      " 0   match_id                        6636 non-null   int64  \n",
      " 1   period_1                        6636 non-null   float64\n",
      " 2   period_2                        6636 non-null   float64\n",
      " 3   period_3                        2009 non-null   float64\n",
      " 4   period_4                        55 non-null     float64\n",
      " 5   period_5                        22 non-null     float64\n",
      " 6   current_period_start_timestamp  6636 non-null   float64\n",
      "dtypes: float64(6), int64(1)\n",
      "memory usage: 414.8 KB\n"
     ]
    }
   ],
   "source": [
    "MatchTimeInfo_dd = MatchTimeInfo.drop_duplicates()\n",
    "MatchTimeInfo_f = MatchTimeInfo_dd.loc[(MatchTimeInfo_dd['period_1'].notnull()) & (MatchTimeInfo_dd['period_2'].notnull())]\n",
    "MatchTimeInfo_fin = MatchTimeInfo_f.drop_duplicates(subset = [ 'match_id'])\n",
    "MatchTimeInfo_fin.info()"
   ]
  },
  {
   "cell_type": "markdown",
   "metadata": {},
   "source": [
    "Summation the values of period's times and adding it in a new column "
   ]
  },
  {
   "cell_type": "code",
   "execution_count": 6,
   "metadata": {},
   "outputs": [
    {
     "name": "stdout",
     "output_type": "stream",
     "text": [
      "<class 'pandas.core.frame.DataFrame'>\n",
      "Index: 6636 entries, 0 to 19672\n",
      "Data columns (total 8 columns):\n",
      " #   Column                          Non-Null Count  Dtype  \n",
      "---  ------                          --------------  -----  \n",
      " 0   match_id                        6636 non-null   int64  \n",
      " 1   period_1                        6636 non-null   float64\n",
      " 2   period_2                        6636 non-null   float64\n",
      " 3   period_3                        6636 non-null   float64\n",
      " 4   period_4                        6636 non-null   float64\n",
      " 5   period_5                        6636 non-null   float64\n",
      " 6   current_period_start_timestamp  6636 non-null   float64\n",
      " 7   sum                             6636 non-null   float64\n",
      "dtypes: float64(7), int64(1)\n",
      "memory usage: 466.6 KB\n"
     ]
    },
    {
     "name": "stderr",
     "output_type": "stream",
     "text": [
      "C:\\Users\\Maedeh\\AppData\\Local\\Temp\\ipykernel_14828\\1743729347.py:1: SettingWithCopyWarning: \n",
      "A value is trying to be set on a copy of a slice from a DataFrame\n",
      "\n",
      "See the caveats in the documentation: https://pandas.pydata.org/pandas-docs/stable/user_guide/indexing.html#returning-a-view-versus-a-copy\n",
      "  MatchTimeInfo_fin.fillna(0, inplace=True)\n",
      "C:\\Users\\Maedeh\\AppData\\Local\\Temp\\ipykernel_14828\\1743729347.py:2: SettingWithCopyWarning: \n",
      "A value is trying to be set on a copy of a slice from a DataFrame.\n",
      "Try using .loc[row_indexer,col_indexer] = value instead\n",
      "\n",
      "See the caveats in the documentation: https://pandas.pydata.org/pandas-docs/stable/user_guide/indexing.html#returning-a-view-versus-a-copy\n",
      "  MatchTimeInfo_fin ['sum'] = MatchTimeInfo_fin[MatchTimeInfo_fin.columns[1:6]].sum(axis=1)\n"
     ]
    }
   ],
   "source": [
    "MatchTimeInfo_fin.fillna(0, inplace=True)\n",
    "MatchTimeInfo_fin ['sum'] = MatchTimeInfo_fin[MatchTimeInfo_fin.columns[1:6]].sum(axis=1)\n",
    "MatchTimeInfo_fin.info()\n"
   ]
  },
  {
   "cell_type": "markdown",
   "metadata": {},
   "source": [
    "In data several matches with more that 12 hours duration exsit that are not valid as the longest game in mteniss matche s in the world lasts less than 12 hours\n",
    "so we droped the invalid data"
   ]
  },
  {
   "cell_type": "markdown",
   "metadata": {},
   "source": [
    "**box plot**"
   ]
  },
  {
   "cell_type": "code",
   "execution_count": 7,
   "metadata": {},
   "outputs": [
    {
     "data": {
      "image/png": "[encoded data removed]",
      "text/plain": [
       "<Figure size 640x480 with 1 Axes>"
      ]
     },
     "metadata": {},
     "output_type": "display_data"
    }
   ],
   "source": [
    "plt.boxplot (MatchTimeInfo_fin ['sum'])\n",
    "plt.title ('match duration Box Plot')\n",
    "plt.show()"
   ]
  },
  {
   "cell_type": "code",
   "execution_count": 8,
   "metadata": {},
   "outputs": [
    {
     "name": "stdout",
     "output_type": "stream",
     "text": [
      "<class 'pandas.core.frame.DataFrame'>\n",
      "Index: 6561 entries, 0 to 19672\n",
      "Data columns (total 8 columns):\n",
      " #   Column                          Non-Null Count  Dtype  \n",
      "---  ------                          --------------  -----  \n",
      " 0   match_id                        6561 non-null   int64  \n",
      " 1   period_1                        6561 non-null   float64\n",
      " 2   period_2                        6561 non-null   float64\n",
      " 3   period_3                        6561 non-null   float64\n",
      " 4   period_4                        6561 non-null   float64\n",
      " 5   period_5                        6561 non-null   float64\n",
      " 6   current_period_start_timestamp  6561 non-null   float64\n",
      " 7   sum                             6561 non-null   float64\n",
      "dtypes: float64(7), int64(1)\n",
      "memory usage: 461.3 KB\n"
     ]
    }
   ],
   "source": [
    "MatchTimeInfo_fins = MatchTimeInfo_fin [MatchTimeInfo_fin ['sum']< 12 * 3600]\n",
    "MatchTimeInfo_fins.info()"
   ]
  },
  {
   "cell_type": "code",
   "execution_count": 14,
   "metadata": {},
   "outputs": [
    {
     "data": {
      "image/png": "[encoded data removed]",
      "text/plain": [
       "<Figure size 640x480 with 1 Axes>"
      ]
     },
     "metadata": {},
     "output_type": "display_data"
    }
   ],
   "source": [
    "plt.boxplot (MatchTimeInfo_fins ['sum'])\n",
    "plt.title ('cleaned match duration Box Plot')\n",
    "plt.show()"
   ]
  },
  {
   "cell_type": "markdown",
   "metadata": {},
   "source": [
    "**Reporting the result**"
   ]
  },
  {
   "cell_type": "code",
   "execution_count": 9,
   "metadata": {},
   "outputs": [
    {
     "name": "stdout",
     "output_type": "stream",
     "text": [
      "The average of match duration is 6625.516079865874\n"
     ]
    }
   ],
   "source": [
    "AVG = MatchTimeInfo_fins['sum'].mean()\n",
    "print(f'The average of match duration is {AVG}')"
   ]
  },
  {
   "cell_type": "markdown",
   "metadata": {},
   "source": [
    "Plotting match duration histogram"
   ]
  },
  {
   "cell_type": "code",
   "execution_count": 16,
   "metadata": {},
   "outputs": [
    {
     "data": {
      "image/png": "[encoded data removed]",
      "text/plain": [
       "<Figure size 640x480 with 1 Axes>"
      ]
     },
     "metadata": {},
     "output_type": "display_data"
    }
   ],
   "source": [
    "plt.hist(MatchTimeInfo_fins['sum'] , bins= 30)\n",
    "plt.xlabel('match duration')\n",
    "plt.ylabel('frequency of matches')\n",
    "plt.title('match duration histogram')\n",
    "plt.show()"
   ]
  },
  {
   "cell_type": "markdown",
   "metadata": {},
   "source": [
    "Normal test "
   ]
  },
  {
   "cell_type": "code",
   "execution_count": 17,
   "metadata": {},
   "outputs": [
    {
     "name": "stdout",
     "output_type": "stream",
     "text": [
      "Shapiro-Wilk Test for Math Score: Statistic = 0.83, p-value = 0.0\n",
      "T-statistic: 0.83, p-value: 0.0\n",
      "Sample does not look Gaussian (reject H0) \n"
     ]
    },
    {
     "name": "stderr",
     "output_type": "stream",
     "text": [
      "c:\\Users\\Maedeh\\AppData\\Local\\Programs\\Python\\Python312\\Lib\\site-packages\\scipy\\stats\\_axis_nan_policy.py:573: UserWarning: scipy.stats.shapiro: For N > 5000, computed p-value may not be accurate. Current N is 6561.\n",
      "  res = hypotest_fun_out(*samples, **kwds)\n"
     ]
    }
   ],
   "source": [
    "# Shapiro-Wilk test\n",
    "\n",
    "statistic, p_value = stats.shapiro(MatchTimeInfo_fins['sum'])\n",
    "statistic = round(statistic ,  2)\n",
    "p_value = round(p_value ,  2)\n",
    "print(f\"Shapiro-Wilk Test for Math Score: Statistic = {statistic}, p-value = {p_value}\")\n",
    "\n",
    "print(f\"T-statistic: {statistic}, p-value: {p_value}\")\n",
    "\n",
    "# Interpretation\n",
    "alpha = 0.05\n",
    "if p_value < alpha:\n",
    "    print ('Sample does not look Gaussian (reject H0) ')\n",
    "else:\n",
    "    print ( 'Sample looks Gaussian (fail to reject H0)')"
   ]
  }
 ],
 "metadata": {
  "kernelspec": {
   "display_name": "Python 3",
   "language": "python",
   "name": "python3"
  },
  "language_info": {
   "codemirror_mode": {
    "name": "ipython",
    "version": 3
   },
   "file_extension": ".py",
   "mimetype": "text/x-python",
   "name": "python",
   "nbconvert_exporter": "python",
   "pygments_lexer": "ipython3",
   "version": "3.12.2"
  }
 },
 "nbformat": 4,
 "nbformat_minor": 2
}
