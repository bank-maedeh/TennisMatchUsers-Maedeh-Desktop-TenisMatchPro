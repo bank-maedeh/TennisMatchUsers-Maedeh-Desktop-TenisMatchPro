{
 "cells": [
  {
   "cell_type": "markdown",
   "metadata": {},
   "source": [
    "**10. Is there a correlation between a player's height and their ranking?**"
   ]
  },
  {
   "cell_type": "code",
   "execution_count": 1,
   "metadata": {},
   "outputs": [],
   "source": [
    "import pandas as pd"
   ]
  },
  {
   "cell_type": "code",
   "execution_count": 3,
   "metadata": {},
   "outputs": [],
   "source": [
    "MatchHomeTeamInfo = pd.read_csv( 'C:/Users/Maedeh/Desktop/TenisMatchPro/data/external/MatchHomeTeamInfo.csv')\n",
    "MatchAwayTeamInfo = pd.read_csv( 'C:/Users/Maedeh/Desktop/TenisMatchPro/data/external/MatchAwayTeamInfo.csv')"
   ]
  },
  {
   "cell_type": "code",
   "execution_count": 4,
   "metadata": {},
   "outputs": [
    {
     "name": "stdout",
     "output_type": "stream",
     "text": [
      "Correlation coefficient between height and ranking is equall to: 0.11243439094485437\n",
      "This value indicates a very weak positive correlation between these two variables\n"
     ]
    }
   ],
   "source": [
    "all_players = pd.concat([MatchHomeTeamInfo, MatchAwayTeamInfo])\n",
    "\n",
    "# Drop duplicates and keep the last record of each match_id\n",
    "all_players_drop_dup = all_players.drop_duplicates(subset=['match_id','name'], keep='last')\n",
    "\n",
    "correlation_coeff = all_players_drop_dup['height'].corr(all_players_drop_dup['current_rank'])\n",
    "\n",
    "print(f\"Correlation coefficient between height and ranking is equall to: {correlation_coeff}\")\n",
    "print ( \"This value indicates a very weak positive correlation between these two variables\")\n"
   ]
  }
 ],
 "metadata": {
  "kernelspec": {
   "display_name": "Python 3",
   "language": "python",
   "name": "python3"
  },
  "language_info": {
   "codemirror_mode": {
    "name": "ipython",
    "version": 3
   },
   "file_extension": ".py",
   "mimetype": "text/x-python",
   "name": "python",
   "nbconvert_exporter": "python",
   "pygments_lexer": "ipython3",
   "version": "3.12.2"
  }
 },
 "nbformat": 4,
 "nbformat_minor": 2
}
