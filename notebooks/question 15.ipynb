{
 "cells": [
  {
   "cell_type": "markdown",
   "metadata": {},
   "source": [
    "**15.\tHow many distinct countries are represented in the dataset?**"
   ]
  },
  {
   "cell_type": "markdown",
   "metadata": {},
   "source": [
    "Importing requierde libraries"
   ]
  },
  {
   "cell_type": "code",
   "execution_count": 1,
   "metadata": {},
   "outputs": [],
   "source": [
    "import pandas as pd\n",
    "import matplotlib.pyplot as plt"
   ]
  },
  {
   "cell_type": "markdown",
   "metadata": {},
   "source": [
    "Reading requiered tables"
   ]
  },
  {
   "cell_type": "code",
   "execution_count": 2,
   "metadata": {},
   "outputs": [],
   "source": [
    "MatchHomeTeamInfo = pd.read_csv( 'C:/Users/Maedeh/Desktop/TenisMatchPro/data/external/MatchHomeTeamInfo.csv')\n",
    "MatchAwayTeamInfo = pd.read_csv( 'C:/Users/Maedeh/Desktop/TenisMatchPro/data/external/MatchAwayTeamInfo.csv')\n",
    "MatchVenueInfo = pd.read_csv( 'C:/Users/Maedeh/Desktop/TenisMatchPro/data/external/MatchVenueInfo.csv')"
   ]
  },
  {
   "cell_type": "markdown",
   "metadata": {},
   "source": [
    "Calculating the number of unique countries which the players come from or countries matches are played in"
   ]
  },
  {
   "cell_type": "code",
   "execution_count": 6,
   "metadata": {},
   "outputs": [
    {
     "name": "stdout",
     "output_type": "stream",
     "text": [
      "97 distinct countries are represented in as player country\n",
      "34 distinct countries are represented in as vanue country\n",
      "99 distinct countries are represented in the total dataset\n"
     ]
    }
   ],
   "source": [
    "Home_country = MatchHomeTeamInfo['country'].loc[MatchHomeTeamInfo['country'].notnull()]\n",
    "Away_country = MatchAwayTeamInfo['country'].loc[MatchAwayTeamInfo['country'].notnull()]\n",
    "Venue_country = MatchVenueInfo['country'].loc[MatchVenueInfo['country'].notnull()]\n",
    "player_country = pd.concat ([Home_country, Away_country]).unique()\n",
    "player_country_count = len(player_country)\n",
    "venue_country_count = len(Venue_country.unique())\n",
    "all_country = pd.concat ([Home_country, Away_country, Venue_country]).unique()\n",
    "all_country_count = len(all_country)\n",
    "print (f'{player_country_count} distinct countries are represented in as player country')\n",
    "print (f'{venue_country_count} distinct countries are represented in as vanue country')\n",
    "print (f'{all_country_count} distinct countries are represented in the total dataset')"
   ]
  },
  {
   "cell_type": "code",
   "execution_count": null,
   "metadata": {},
   "outputs": [],
   "source": []
  }
 ],
 "metadata": {
  "kernelspec": {
   "display_name": "Python 3",
   "language": "python",
   "name": "python3"
  },
  "language_info": {
   "codemirror_mode": {
    "name": "ipython",
    "version": 3
   },
   "file_extension": ".py",
   "mimetype": "text/x-python",
   "name": "python",
   "nbconvert_exporter": "python",
   "pygments_lexer": "ipython3",
   "version": "3.12.2"
  }
 },
 "nbformat": 4,
 "nbformat_minor": 2
}
