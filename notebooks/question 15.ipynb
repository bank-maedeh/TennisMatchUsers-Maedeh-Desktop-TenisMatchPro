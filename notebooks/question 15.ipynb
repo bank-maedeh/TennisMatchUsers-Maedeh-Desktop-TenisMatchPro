{
 "cells": [
  {
   "cell_type": "markdown",
   "metadata": {},
   "source": [
    "**15.\tHow many distinct countries are represented in the dataset?**"
   ]
  },
  {
   "cell_type": "markdown",
   "metadata": {},
   "source": [
    "Importing requierde libraries"
   ]
  },
  {
   "cell_type": "code",
   "execution_count": 1,
   "metadata": {},
   "outputs": [],
   "source": [
    "import pandas as pd"
   ]
  },
  {
   "cell_type": "markdown",
   "metadata": {},
   "source": [
    "Reading requiered tables"
   ]
  },
  {
   "cell_type": "code",
   "execution_count": 2,
   "metadata": {},
   "outputs": [],
   "source": [
    "MatchHomeTeamInfo = pd.read_csv( 'C:/Users/Maedeh/Desktop/TenisMatchPro/data/interim3/MatchHomeTeamInfo.csv')\n",
    "MatchAwayTeamInfo = pd.read_csv( 'C:/Users/Maedeh/Desktop/TenisMatchPro/data/interim3/MatchAwayTeamInfo.csv')\n",
    "MatchVenueInfo = pd.read_csv( 'C:/Users/Maedeh/Desktop/TenisMatchPro/data/interim3/MatchVenueInfo.csv')"
   ]
  },
  {
   "cell_type": "markdown",
   "metadata": {},
   "source": [
    "Calculating the number of unique countries which the players come from or countries matches are played in"
   ]
  },
  {
   "cell_type": "code",
   "execution_count": 36,
   "metadata": {},
   "outputs": [
    {
     "name": "stdout",
     "output_type": "stream",
     "text": [
      "99 distinct countries are represented in the dataset\n"
     ]
    }
   ],
   "source": [
    "Home_country = MatchHomeTeamInfo['country'].loc[MatchHomeTeamInfo['country'].notnull()]\n",
    "Away_country = MatchAwayTeamInfo['country'].loc[MatchAwayTeamInfo['country'].notnull()]\n",
    "Vanue_country = MatchVenueInfo['country'].loc[MatchVenueInfo['country'].notnull()]\n",
    "all_country = pd.concat ([Home_country, Away_country, Vanue_country]).unique()\n",
    "all_country\n",
    "lc = len(all_country)\n",
    "print (f'{lc} distinct countries are represented in the dataset')"
   ]
  }
 ],
 "metadata": {
  "kernelspec": {
   "display_name": "Python 3",
   "language": "python",
   "name": "python3"
  },
  "language_info": {
   "codemirror_mode": {
    "name": "ipython",
    "version": 3
   },
   "file_extension": ".py",
   "mimetype": "text/x-python",
   "name": "python",
   "nbconvert_exporter": "python",
   "pygments_lexer": "ipython3",
   "version": "3.12.2"
  }
 },
 "nbformat": 4,
 "nbformat_minor": 2
}
