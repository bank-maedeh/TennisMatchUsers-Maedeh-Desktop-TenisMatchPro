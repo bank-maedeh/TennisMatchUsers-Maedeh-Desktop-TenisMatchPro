{
 "cells": [
  {
   "cell_type": "markdown",
   "metadata": {},
   "source": [
    "**12.\tWhat is the average number of games per set in men's matches compared to women's matches?**"
   ]
  },
  {
   "cell_type": "code",
   "execution_count": 1,
   "metadata": {},
   "outputs": [],
   "source": [
    "import pandas as pd\n",
    "import scipy.stats as stats"
   ]
  },
  {
   "cell_type": "markdown",
   "metadata": {},
   "source": [
    "Reading tables"
   ]
  },
  {
   "cell_type": "code",
   "execution_count": 2,
   "metadata": {},
   "outputs": [],
   "source": [
    "GameInfo = pd.read_csv( 'C:/Users/Maedeh/Desktop/TenisMatchPro/data/external/GameInfo.csv')\n",
    "MatchHomeTeamInfo = pd.read_csv( 'C:/Users/Maedeh/Desktop/TenisMatchPro/data/external/MatchHomeTeamInfo.csv')\n",
    "MatchAwayTeamInfo = pd.read_csv( 'C:/Users/Maedeh/Desktop/TenisMatchPro/data/external/MatchAwayTeamInfo.csv')\n"
   ]
  },
  {
   "cell_type": "markdown",
   "metadata": {},
   "source": [
    "Merge and cleaning table to gain the gender-game table"
   ]
  },
  {
   "cell_type": "code",
   "execution_count": 3,
   "metadata": {},
   "outputs": [],
   "source": [
    "all_players = pd.concat([MatchHomeTeamInfo, MatchAwayTeamInfo])\n",
    "GameInfo_with_gender = pd.merge(GameInfo, all_players, on='match_id')\n",
    "\n",
    "# Drop duplicates and keep the last record based on set_id and game_id\n",
    "GameInfo_with_gender_cleaned = GameInfo_with_gender.sort_values(by=['match_id',\n",
    "                                                                    'set_id',\n",
    "                                                                     'game_id']).drop_duplicates(subset=['match_id',\n",
    "                                                                                                         'set_id'],\n",
    "                                                                                                          keep='last')\n",
    "\n",
    "GameInfo_with_gender_cleaned=GameInfo_with_gender_cleaned[[\"match_id\" ,\"game_id\" , \"gender\" ]]\n",
    "GameInfo_Male_cleaned = GameInfo_with_gender_cleaned[GameInfo_with_gender_cleaned['gender'] == 'M']\n",
    "GameInfo_Female_cleaned = GameInfo_with_gender_cleaned[GameInfo_with_gender_cleaned['gender'] == 'F']\n"
   ]
  },
  {
   "cell_type": "markdown",
   "metadata": {},
   "source": [
    "Two sample test with h0 there is not significant difference between average number of games per set based on gender"
   ]
  },
  {
   "cell_type": "code",
   "execution_count": 6,
   "metadata": {},
   "outputs": [
    {
     "name": "stdout",
     "output_type": "stream",
     "text": [
      "T-statistic: 7.739154137176257, p-value: 1.0681743235485147e-14\n",
      "Samples shows significant difference (reject H0)\n",
      "so there is significant difference average number of games per set based on gender\n"
     ]
    }
   ],
   "source": [
    "t_statistic, p_value = stats.ttest_ind (GameInfo_Male_cleaned[\"game_id\"],\n",
    "                                        GameInfo_Female_cleaned[\"game_id\"])\n",
    "print(f\"T-statistic: {t_statistic}, p-value: {p_value}\")\n",
    "\n",
    "# Interpretation\n",
    "alpha = 0.05\n",
    "if p_value < alpha:\n",
    "    print ('Samples shows significant difference (reject H0)')\n",
    "    print ('so there is significant difference between average number of games per set based on gender')\n",
    "else:\n",
    "    print ( 'Samples dose not show significant difference  (fail to reject H0)')\n",
    "    print ('so there is not significant difference average between number of games per set based on gender')"
   ]
  }
 ],
 "metadata": {
  "kernelspec": {
   "display_name": "Python 3",
   "language": "python",
   "name": "python3"
  },
  "language_info": {
   "codemirror_mode": {
    "name": "ipython",
    "version": 3
   },
   "file_extension": ".py",
   "mimetype": "text/x-python",
   "name": "python",
   "nbconvert_exporter": "python",
   "pygments_lexer": "ipython3",
   "version": "3.12.2"
  }
 },
 "nbformat": 4,
 "nbformat_minor": 2
}
