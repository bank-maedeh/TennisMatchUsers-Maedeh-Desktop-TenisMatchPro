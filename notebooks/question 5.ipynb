{
 "cells": [
  {
   "cell_type": "markdown",
   "metadata": {},
   "source": [
    "**5.\tHow many sets are typically played in a tennis match?**"
   ]
  },
  {
   "cell_type": "code",
   "execution_count": 1,
   "metadata": {},
   "outputs": [],
   "source": [
    "import pandas as pd\n",
    "import matplotlib.pyplot as plt\n",
    "import scipy.stats as stats"
   ]
  },
  {
   "cell_type": "markdown",
   "metadata": {},
   "source": [
    "Reading requierd tables"
   ]
  },
  {
   "cell_type": "code",
   "execution_count": 2,
   "metadata": {},
   "outputs": [],
   "source": [
    "GameInfo = pd.read_csv( 'C:/Users/Maedeh/Desktop/TenisMatchPro/data/external/GameInfo.csv')\n"
   ]
  },
  {
   "cell_type": "markdown",
   "metadata": {},
   "source": [
    "Creating a data frame which contains match_id and its number of sets played"
   ]
  },
  {
   "cell_type": "markdown",
   "metadata": {},
   "source": [
    "Calculating the number of sets for each match"
   ]
  },
  {
   "cell_type": "code",
   "execution_count": 19,
   "metadata": {},
   "outputs": [
    {
     "data": {
      "text/html": [
       "<div>\n",
       "<style scoped>\n",
       "    .dataframe tbody tr th:only-of-type {\n",
       "        vertical-align: middle;\n",
       "    }\n",
       "\n",
       "    .dataframe tbody tr th {\n",
       "        vertical-align: top;\n",
       "    }\n",
       "\n",
       "    .dataframe thead th {\n",
       "        text-align: right;\n",
       "    }\n",
       "</style>\n",
       "<table border=\"1\" class=\"dataframe\">\n",
       "  <thead>\n",
       "    <tr style=\"text-align: right;\">\n",
       "      <th></th>\n",
       "      <th>match_id</th>\n",
       "      <th>set_id</th>\n",
       "    </tr>\n",
       "  </thead>\n",
       "  <tbody>\n",
       "    <tr>\n",
       "      <th>count</th>\n",
       "      <td>6.555000e+03</td>\n",
       "      <td>6555.000000</td>\n",
       "    </tr>\n",
       "    <tr>\n",
       "      <th>mean</th>\n",
       "      <td>1.233514e+07</td>\n",
       "      <td>2.300534</td>\n",
       "    </tr>\n",
       "    <tr>\n",
       "      <th>std</th>\n",
       "      <td>2.731068e+04</td>\n",
       "      <td>0.508090</td>\n",
       "    </tr>\n",
       "    <tr>\n",
       "      <th>min</th>\n",
       "      <td>1.226008e+07</td>\n",
       "      <td>1.000000</td>\n",
       "    </tr>\n",
       "    <tr>\n",
       "      <th>25%</th>\n",
       "      <td>1.231208e+07</td>\n",
       "      <td>2.000000</td>\n",
       "    </tr>\n",
       "    <tr>\n",
       "      <th>50%</th>\n",
       "      <td>1.233452e+07</td>\n",
       "      <td>2.000000</td>\n",
       "    </tr>\n",
       "    <tr>\n",
       "      <th>75%</th>\n",
       "      <td>1.235760e+07</td>\n",
       "      <td>3.000000</td>\n",
       "    </tr>\n",
       "    <tr>\n",
       "      <th>max</th>\n",
       "      <td>1.238502e+07</td>\n",
       "      <td>5.000000</td>\n",
       "    </tr>\n",
       "  </tbody>\n",
       "</table>\n",
       "</div>"
      ],
      "text/plain": [
       "           match_id       set_id\n",
       "count  6.555000e+03  6555.000000\n",
       "mean   1.233514e+07     2.300534\n",
       "std    2.731068e+04     0.508090\n",
       "min    1.226008e+07     1.000000\n",
       "25%    1.231208e+07     2.000000\n",
       "50%    1.233452e+07     2.000000\n",
       "75%    1.235760e+07     3.000000\n",
       "max    1.238502e+07     5.000000"
      ]
     },
     "execution_count": 19,
     "metadata": {},
     "output_type": "execute_result"
    }
   ],
   "source": [
    "GameInfo_set = GameInfo[['match_id' , 'set_id']].groupby('match_id' , as_index = False)['set_id'].max()\n",
    "GameInfo_set.describe()"
   ]
  },
  {
   "cell_type": "markdown",
   "metadata": {},
   "source": [
    "Unfinished matches with 1 set id have to be droped"
   ]
  },
  {
   "cell_type": "code",
   "execution_count": 6,
   "metadata": {},
   "outputs": [],
   "source": [
    "filtered_GameInfo = GameInfo_set[GameInfo_set['set_id'] > 1]"
   ]
  },
  {
   "cell_type": "markdown",
   "metadata": {},
   "source": [
    "Reporting"
   ]
  },
  {
   "cell_type": "code",
   "execution_count": 10,
   "metadata": {},
   "outputs": [
    {
     "name": "stdout",
     "output_type": "stream",
     "text": [
      "Tenis matches has typiccally 2.31417 sets\n"
     ]
    }
   ],
   "source": [
    "mean = round(filtered_GameInfo['set_id'].mean(),5)\n",
    "print( f'Tenis matches has typiccally {mean} sets')"
   ]
  },
  {
   "cell_type": "markdown",
   "metadata": {},
   "source": [
    "More analysis:"
   ]
  },
  {
   "cell_type": "code",
   "execution_count": 17,
   "metadata": {},
   "outputs": [
    {
     "name": "stdout",
     "output_type": "stream",
     "text": [
      "70.0 % of matches with 2 sets and 30.0% with 3 sets\n"
     ]
    },
    {
     "data": {
      "text/plain": [
       "set_id\n",
       "2    4518\n",
       "3    1920\n",
       "4      29\n",
       "5      20\n",
       "Name: match_id, dtype: int64"
      ]
     },
     "execution_count": 17,
     "metadata": {},
     "output_type": "execute_result"
    }
   ],
   "source": [
    "hist_set = filtered_GameInfo.groupby(['set_id'])['match_id'].count()\n",
    "set_2 = round((filtered_GameInfo[filtered_GameInfo['set_id']==2].count()/ filtered_GameInfo['set_id'].count()).values[0], 2) * 100\n",
    "set_3 = round((filtered_GameInfo[filtered_GameInfo['set_id']==3].count()/ filtered_GameInfo['set_id'].count()).values[0], 2) * 100\n",
    "set_4 = round((filtered_GameInfo[filtered_GameInfo['set_id']==4].count() / filtered_GameInfo['set_id'].count()).values[0], 5) * 100\n",
    "set_5 = round((filtered_GameInfo[filtered_GameInfo['set_id']==5].count() / filtered_GameInfo['set_id'].count()).values[0], 5) * 100\n",
    "print (f\"{set_2} % of matches with 2 sets and {set_3}% with 3 sets\")\n",
    "hist_set.head()\n"
   ]
  },
  {
   "cell_type": "markdown",
   "metadata": {},
   "source": [
    "Plotting the histogram of number of sets in each match"
   ]
  }
 ],
 "metadata": {
  "kernelspec": {
   "display_name": "Python 3",
   "language": "python",
   "name": "python3"
  },
  "language_info": {
   "codemirror_mode": {
    "name": "ipython",
    "version": 3
   },
   "file_extension": ".py",
   "mimetype": "text/x-python",
   "name": "python",
   "nbconvert_exporter": "python",
   "pygments_lexer": "ipython3",
   "version": "3.12.2"
  }
 },
 "nbformat": 4,
 "nbformat_minor": 2
}
