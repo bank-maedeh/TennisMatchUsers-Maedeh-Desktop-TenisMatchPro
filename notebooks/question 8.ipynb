{
 "cells": [
  {
   "cell_type": "markdown",
   "metadata": {},
   "source": [
    "**8.\tIs there a difference in the number of double faults based on gender?**"
   ]
  },
  {
   "cell_type": "markdown",
   "metadata": {},
   "source": [
    "Importing required libraries"
   ]
  },
  {
   "cell_type": "code",
   "execution_count": 4,
   "metadata": {},
   "outputs": [],
   "source": [
    "import pandas as pd\n",
    "import numpy as np"
   ]
  },
  {
   "cell_type": "markdown",
   "metadata": {},
   "source": [
    "Reading requierd tables and dropping duplicated data"
   ]
  },
  {
   "cell_type": "code",
   "execution_count": 7,
   "metadata": {},
   "outputs": [],
   "source": [
    "MatchEventInfo = pd.read_csv( 'C:/Users/Maedeh/Desktop/TenisMatchPro/data/external/MatchEventInfo.csv')\n",
    "MatchHomeTeamInfo = pd.read_csv( 'C:/Users/Maedeh/Desktop/TenisMatchPro/data/external/MatchHomeTeamInfo.csv')\n",
    "MatchAwayTeamInfo = pd.read_csv( 'C:/Users/Maedeh/Desktop/TenisMatchPro/data/external/MatchAwayTeamInfo.csv')\n",
    "PeriodInfo = pd.read_csv( 'C:/Users/Maedeh/Desktop/TenisMatchPro/data/external/PeriodInfo.csv')\n",
    "MatchHomeTeamInfo_dd = MatchHomeTeamInfo.drop_duplicates (subset = 'match_id')\n",
    "MatchAwayTeamInfo_dd = MatchAwayTeamInfo.drop_duplicates (subset = 'match_id')\n",
    "MatchEventInfo_dd = MatchEventInfo.drop_duplicates ()\n"
   ]
  },
  {
   "cell_type": "code",
   "execution_count": null,
   "metadata": {},
   "outputs": [],
   "source": [
    "matches = pd.DataFrame( PeriodInfo['match_id'].unique() , columns = ['match_id'])\n",
    "ace_data = PeriodInfo[(PeriodInfo['statistic_name'] == 'aces') &\n",
    "                      (PeriodInfo['period'] == 'ALL')]\n",
    "ace_data['ace'] = ace_data['home_stat'] + ace_data['away_stat']\n",
    "ace_data_dd = ace_data.drop_duplicates(subset = 'match_id')\n",
    "ace_data_dd['ace'] = pd.to_numeric (ace_data_dd['ace'])\n",
    "ace_data_dd.head()"
   ]
  },
  {
   "cell_type": "code",
   "execution_count": 49,
   "metadata": {},
   "outputs": [
    {
     "name": "stdout",
     "output_type": "stream",
     "text": [
      "<class 'pandas.core.frame.DataFrame'>\n",
      "Index: 11416 entries, 0 to 11110\n",
      "Data columns (total 2 columns):\n",
      " #   Column         Non-Null Count  Dtype \n",
      "---  ------         --------------  ----- \n",
      " 0   gender         11395 non-null  object\n",
      " 1   double_faults  11416 non-null  int64 \n",
      "dtypes: int64(1), object(1)\n",
      "memory usage: 267.6+ KB\n"
     ]
    }
   ],
   "source": [
    "# Filter rows where the statistic_name is \"double_faults\" and ALL period\n",
    "double_faults_data = PeriodInfo[(PeriodInfo['statistic_name'] == 'double_faults') &\n",
    "                                (PeriodInfo['period'] == 'ALL')]\n",
    "\n",
    "# Merge with MatchHomeTeamInfo to get home team gender and double faults\n",
    "home_merged = pd.merge(double_faults_data,\n",
    "                       MatchHomeTeamInfo_dd[['match_id', 'gender']], on='match_id').drop_duplicates(subset='match_id')\n",
    "home_double_faults = home_merged[['gender',\n",
    "                                  'home_stat']].rename(columns={'home_stat': 'double_faults'})\n",
    "\n",
    "# Merge with MatchAwayTeamInfo to get away team gender and double faults\n",
    "away_merged = pd.merge(double_faults_data,\n",
    "MatchAwayTeamInfo_dd[['match_id', 'gender']], on='match_id').drop_duplicates(subset='match_id')\n",
    "away_double_faults = away_merged[['gender', \n",
    "                                  'away_stat']].rename(columns={'away_stat': 'double_faults'})\n",
    "\n",
    "# Combine home and away double faults\n",
    "combined_double_faults = pd.concat([home_double_faults, away_double_faults])\n",
    "\n",
    "# Convert double_faults to numeric\n",
    "combined_double_faults['double_faults'] = pd.to_numeric(combined_double_faults['double_faults'])\n",
    "combined_double_faults.info()\n"
   ]
  },
  {
   "cell_type": "markdown",
   "metadata": {},
   "source": [
    "Filter rows where the statistic_name is \"double_faults\" and Merge with MatchHomeTeamInfo and MatchAwayTeamInfo to get gender and double faults"
   ]
  },
  {
   "cell_type": "code",
   "execution_count": 25,
   "metadata": {},
   "outputs": [
    {
     "data": {
      "text/plain": [
       "0       12260075\n",
       "1       12260076\n",
       "2       12260077\n",
       "3       12260078\n",
       "4       12260080\n",
       "          ...   \n",
       "6792    12384975\n",
       "6793    12385017\n",
       "6794    12385869\n",
       "6795    12385873\n",
       "6796    12386383\n",
       "Name: match_id, Length: 6797, dtype: int64"
      ]
     },
     "execution_count": 25,
     "metadata": {},
     "output_type": "execute_result"
    }
   ],
   "source": [
    "t=PeriodInfo[PeriodInfo['statistic_name'] == 'double_faults'].groupby(['match_id'], as_index=False)['statistic_name'].count()\n",
    "t['match_id']"
   ]
  },
  {
   "cell_type": "code",
   "execution_count": 32,
   "metadata": {},
   "outputs": [
    {
     "ename": "KeyError",
     "evalue": "Index(['player_id'], dtype='object')",
     "output_type": "error",
     "traceback": [
      "\u001b[1;31m---------------------------------------------------------------------------\u001b[0m",
      "\u001b[1;31mKeyError\u001b[0m                                  Traceback (most recent call last)",
      "\u001b[1;32m~\\AppData\\Local\\Temp\\ipykernel_17000\\3294519645.py\u001b[0m in \u001b[0;36m?\u001b[1;34m()\u001b[0m\n\u001b[0;32m      6\u001b[0m                                   'gender']].merge(MatchAwayTeamInfo_dd[['match_id' ,\n\u001b[0;32m      7\u001b[0m                                                                           \u001b[1;34m'player_id'\u001b[0m\u001b[1;33m,\u001b[0m\u001b[1;33m\u001b[0m\u001b[1;33m\u001b[0m\u001b[0m\n\u001b[0;32m      8\u001b[0m                                                                           \u001b[1;34m'gender'\u001b[0m\u001b[1;33m]\u001b[0m\u001b[1;33m]\u001b[0m\u001b[1;33m,\u001b[0m\u001b[1;33m\u001b[0m\u001b[1;33m\u001b[0m\u001b[0m\n\u001b[0;32m      9\u001b[0m                                                                            \u001b[0mon\u001b[0m \u001b[1;33m=\u001b[0m\u001b[1;34m'match_id'\u001b[0m\u001b[1;33m)\u001b[0m\u001b[1;33m.\u001b[0m\u001b[0mdrop_duplicates\u001b[0m \u001b[1;33m(\u001b[0m\u001b[0msubset\u001b[0m \u001b[1;33m=\u001b[0m \u001b[1;34m'match_id'\u001b[0m\u001b[1;33m)\u001b[0m\u001b[1;33m\u001b[0m\u001b[1;33m\u001b[0m\u001b[0m\n\u001b[1;32m---> 10\u001b[1;33m \u001b[0mmerged_HW_dd\u001b[0m \u001b[1;33m=\u001b[0m \u001b[0mmerged_HW\u001b[0m\u001b[1;33m.\u001b[0m\u001b[0mdrop_duplicates\u001b[0m\u001b[1;33m(\u001b[0m\u001b[0msubset\u001b[0m \u001b[1;33m=\u001b[0m \u001b[1;34m'player_id'\u001b[0m\u001b[1;33m)\u001b[0m\u001b[1;33m\u001b[0m\u001b[1;33m\u001b[0m\u001b[0m\n\u001b[0m\u001b[0;32m     11\u001b[0m \u001b[0mmerged_dHW\u001b[0m \u001b[1;33m=\u001b[0m \u001b[0mpd\u001b[0m\u001b[1;33m.\u001b[0m\u001b[0mmerge\u001b[0m\u001b[1;33m(\u001b[0m\u001b[0mdouble_faults_data\u001b[0m\u001b[1;33m,\u001b[0m \u001b[0mmerged_HW_dd\u001b[0m\u001b[1;33m[\u001b[0m\u001b[1;33m[\u001b[0m\u001b[1;34m'match_id'\u001b[0m\u001b[1;33m,\u001b[0m \u001b[1;34m'gender'\u001b[0m \u001b[1;33m]\u001b[0m\u001b[1;33m]\u001b[0m\u001b[1;33m,\u001b[0m \u001b[0mon\u001b[0m\u001b[1;33m=\u001b[0m\u001b[1;34m'match_id'\u001b[0m\u001b[1;33m)\u001b[0m\u001b[1;33m\u001b[0m\u001b[1;33m\u001b[0m\u001b[0m\n",
      "\u001b[1;32mc:\\Users\\Maedeh\\AppData\\Local\\Programs\\Python\\Python312\\Lib\\site-packages\\pandas\\core\\frame.py\u001b[0m in \u001b[0;36m?\u001b[1;34m(self, subset, keep, inplace, ignore_index)\u001b[0m\n\u001b[0;32m   6814\u001b[0m \u001b[1;33m\u001b[0m\u001b[0m\n\u001b[0;32m   6815\u001b[0m         \u001b[0minplace\u001b[0m \u001b[1;33m=\u001b[0m \u001b[0mvalidate_bool_kwarg\u001b[0m\u001b[1;33m(\u001b[0m\u001b[0minplace\u001b[0m\u001b[1;33m,\u001b[0m \u001b[1;34m\"inplace\"\u001b[0m\u001b[1;33m)\u001b[0m\u001b[1;33m\u001b[0m\u001b[1;33m\u001b[0m\u001b[0m\n\u001b[0;32m   6816\u001b[0m         \u001b[0mignore_index\u001b[0m \u001b[1;33m=\u001b[0m \u001b[0mvalidate_bool_kwarg\u001b[0m\u001b[1;33m(\u001b[0m\u001b[0mignore_index\u001b[0m\u001b[1;33m,\u001b[0m \u001b[1;34m\"ignore_index\"\u001b[0m\u001b[1;33m)\u001b[0m\u001b[1;33m\u001b[0m\u001b[1;33m\u001b[0m\u001b[0m\n\u001b[0;32m   6817\u001b[0m \u001b[1;33m\u001b[0m\u001b[0m\n\u001b[1;32m-> 6818\u001b[1;33m         \u001b[0mresult\u001b[0m \u001b[1;33m=\u001b[0m \u001b[0mself\u001b[0m\u001b[1;33m[\u001b[0m\u001b[1;33m-\u001b[0m\u001b[0mself\u001b[0m\u001b[1;33m.\u001b[0m\u001b[0mduplicated\u001b[0m\u001b[1;33m(\u001b[0m\u001b[0msubset\u001b[0m\u001b[1;33m,\u001b[0m \u001b[0mkeep\u001b[0m\u001b[1;33m=\u001b[0m\u001b[0mkeep\u001b[0m\u001b[1;33m)\u001b[0m\u001b[1;33m]\u001b[0m\u001b[1;33m\u001b[0m\u001b[1;33m\u001b[0m\u001b[0m\n\u001b[0m\u001b[0;32m   6819\u001b[0m         \u001b[1;32mif\u001b[0m \u001b[0mignore_index\u001b[0m\u001b[1;33m:\u001b[0m\u001b[1;33m\u001b[0m\u001b[1;33m\u001b[0m\u001b[0m\n\u001b[0;32m   6820\u001b[0m             \u001b[0mresult\u001b[0m\u001b[1;33m.\u001b[0m\u001b[0mindex\u001b[0m \u001b[1;33m=\u001b[0m \u001b[0mdefault_index\u001b[0m\u001b[1;33m(\u001b[0m\u001b[0mlen\u001b[0m\u001b[1;33m(\u001b[0m\u001b[0mresult\u001b[0m\u001b[1;33m)\u001b[0m\u001b[1;33m)\u001b[0m\u001b[1;33m\u001b[0m\u001b[1;33m\u001b[0m\u001b[0m\n\u001b[0;32m   6821\u001b[0m \u001b[1;33m\u001b[0m\u001b[0m\n",
      "\u001b[1;32mc:\\Users\\Maedeh\\AppData\\Local\\Programs\\Python\\Python312\\Lib\\site-packages\\pandas\\core\\frame.py\u001b[0m in \u001b[0;36m?\u001b[1;34m(self, subset, keep)\u001b[0m\n\u001b[0;32m   6946\u001b[0m         \u001b[1;31m# Otherwise, raise a KeyError, same as if you try to __getitem__ with a\u001b[0m\u001b[1;33m\u001b[0m\u001b[1;33m\u001b[0m\u001b[0m\n\u001b[0;32m   6947\u001b[0m         \u001b[1;31m# key that doesn't exist.\u001b[0m\u001b[1;33m\u001b[0m\u001b[1;33m\u001b[0m\u001b[0m\n\u001b[0;32m   6948\u001b[0m         \u001b[0mdiff\u001b[0m \u001b[1;33m=\u001b[0m \u001b[0mset\u001b[0m\u001b[1;33m(\u001b[0m\u001b[0msubset\u001b[0m\u001b[1;33m)\u001b[0m \u001b[1;33m-\u001b[0m \u001b[0mset\u001b[0m\u001b[1;33m(\u001b[0m\u001b[0mself\u001b[0m\u001b[1;33m.\u001b[0m\u001b[0mcolumns\u001b[0m\u001b[1;33m)\u001b[0m\u001b[1;33m\u001b[0m\u001b[1;33m\u001b[0m\u001b[0m\n\u001b[0;32m   6949\u001b[0m         \u001b[1;32mif\u001b[0m \u001b[0mdiff\u001b[0m\u001b[1;33m:\u001b[0m\u001b[1;33m\u001b[0m\u001b[1;33m\u001b[0m\u001b[0m\n\u001b[1;32m-> 6950\u001b[1;33m             \u001b[1;32mraise\u001b[0m \u001b[0mKeyError\u001b[0m\u001b[1;33m(\u001b[0m\u001b[0mIndex\u001b[0m\u001b[1;33m(\u001b[0m\u001b[0mdiff\u001b[0m\u001b[1;33m)\u001b[0m\u001b[1;33m)\u001b[0m\u001b[1;33m\u001b[0m\u001b[1;33m\u001b[0m\u001b[0m\n\u001b[0m\u001b[0;32m   6951\u001b[0m \u001b[1;33m\u001b[0m\u001b[0m\n\u001b[0;32m   6952\u001b[0m         \u001b[1;32mif\u001b[0m \u001b[0mlen\u001b[0m\u001b[1;33m(\u001b[0m\u001b[0msubset\u001b[0m\u001b[1;33m)\u001b[0m \u001b[1;33m==\u001b[0m \u001b[1;36m1\u001b[0m \u001b[1;32mand\u001b[0m \u001b[0mself\u001b[0m\u001b[1;33m.\u001b[0m\u001b[0mcolumns\u001b[0m\u001b[1;33m.\u001b[0m\u001b[0mis_unique\u001b[0m\u001b[1;33m:\u001b[0m\u001b[1;33m\u001b[0m\u001b[1;33m\u001b[0m\u001b[0m\n\u001b[0;32m   6953\u001b[0m             \u001b[1;31m# GH#45236 This is faster than get_group_index below\u001b[0m\u001b[1;33m\u001b[0m\u001b[1;33m\u001b[0m\u001b[0m\n",
      "\u001b[1;31mKeyError\u001b[0m: Index(['player_id'], dtype='object')"
     ]
    }
   ],
   "source": [
    "double_faults_data = PeriodInfo[PeriodInfo['statistic_name'] == 'double_faults'].groupby(['match_id'],\n",
    "                                                                                         as_index=False)['statistic_name'].count()\n",
    "\n",
    "merged_HW = MatchHomeTeamInfo_dd[['match_id' ,\n",
    "                                  'player_id',\n",
    "                                  'gender']].merge(MatchAwayTeamInfo_dd[['match_id' ,\n",
    "                                                                          'player_id', \n",
    "                                                                          'gender']],\n",
    "                                                                           on ='match_id').drop_duplicates (subset = 'match_id')\n",
    "merged_HW_dd = merged_HW.drop_duplicates(subset = 'player_id')\n",
    "merged_dHW = pd.merge(double_faults_data, merged_HW_dd[['match_id', 'gender' ]], on='match_id')"
   ]
  },
  {
   "cell_type": "markdown",
   "metadata": {},
   "source": []
  },
  {
   "cell_type": "markdown",
   "metadata": {},
   "source": []
  },
  {
   "cell_type": "markdown",
   "metadata": {},
   "source": [
    "**Calculating number of players'win**"
   ]
  },
  {
   "cell_type": "markdown",
   "metadata": {},
   "source": [
    "droping duplicated data"
   ]
  },
  {
   "cell_type": "code",
   "execution_count": null,
   "metadata": {},
   "outputs": [],
   "source": []
  },
  {
   "cell_type": "markdown",
   "metadata": {},
   "source": [
    "Merging the tables"
   ]
  },
  {
   "cell_type": "code",
   "execution_count": null,
   "metadata": {},
   "outputs": [
    {
     "name": "stdout",
     "output_type": "stream",
     "text": [
      "<class 'pandas.core.frame.DataFrame'>\n",
      "Index: 4349 entries, 0 to 5252\n",
      "Data columns (total 6 columns):\n",
      " #   Column       Non-Null Count  Dtype  \n",
      "---  ------       --------------  -----  \n",
      " 0   match_id     4349 non-null   int64  \n",
      " 1   player_id_x  4349 non-null   int64  \n",
      " 2   country_x    4349 non-null   object \n",
      " 3   player_id_y  4349 non-null   int64  \n",
      " 4   country_y    4349 non-null   object \n",
      " 5   winner_code  4349 non-null   float64\n",
      "dtypes: float64(1), int64(3), object(2)\n",
      "memory usage: 237.8+ KB\n"
     ]
    }
   ],
   "source": [
    "merged_HW = MatchHomeTeamInfo_dd[['match_id' ,\n",
    "                                  'player_id',\n",
    "                                  'country']].merge(MatchAwayTeamInfo_dd[['match_id' ,\n",
    "                                                                          'player_id', \n",
    "                                                                          'country']],\n",
    "                                                                           on ='match_id').drop_duplicates (subset = 'match_id')\n",
    "merged_EHW = merged_HW[['match_id' ,\n",
    "                        'player_id_x',\n",
    "                        'country_x',\n",
    "                        'player_id_y',\n",
    "                        'country_y']].merge(MatchEventInfo_dd[['match_id',\n",
    "                                                               'winner_code']],\n",
    "                                                                on ='match_id').drop_duplicates (subset = 'match_id')\n",
    "merged_EHW = merged_EHW.dropna()\n",
    "merged_EHW.info()"
   ]
  },
  {
   "cell_type": "markdown",
   "metadata": {},
   "source": [
    "Mapping the winner_country values"
   ]
  },
  {
   "cell_type": "code",
   "execution_count": null,
   "metadata": {},
   "outputs": [
    {
     "data": {
      "text/html": [
       "<div>\n",
       "<style scoped>\n",
       "    .dataframe tbody tr th:only-of-type {\n",
       "        vertical-align: middle;\n",
       "    }\n",
       "\n",
       "    .dataframe tbody tr th {\n",
       "        vertical-align: top;\n",
       "    }\n",
       "\n",
       "    .dataframe thead th {\n",
       "        text-align: right;\n",
       "    }\n",
       "</style>\n",
       "<table border=\"1\" class=\"dataframe\">\n",
       "  <thead>\n",
       "    <tr style=\"text-align: right;\">\n",
       "      <th></th>\n",
       "      <th>match_id</th>\n",
       "      <th>player_id_x</th>\n",
       "      <th>country_x</th>\n",
       "      <th>player_id_y</th>\n",
       "      <th>country_y</th>\n",
       "      <th>winner_code</th>\n",
       "      <th>winner_id</th>\n",
       "      <th>winner_country</th>\n",
       "    </tr>\n",
       "  </thead>\n",
       "  <tbody>\n",
       "    <tr>\n",
       "      <th>0</th>\n",
       "      <td>12260075</td>\n",
       "      <td>14486</td>\n",
       "      <td>Spain</td>\n",
       "      <td>254742</td>\n",
       "      <td>Czech Republic</td>\n",
       "      <td>2.0</td>\n",
       "      <td>254742</td>\n",
       "      <td>Czech Republic</td>\n",
       "    </tr>\n",
       "    <tr>\n",
       "      <th>1</th>\n",
       "      <td>12260076</td>\n",
       "      <td>206570</td>\n",
       "      <td>Italy</td>\n",
       "      <td>90080</td>\n",
       "      <td>Russia</td>\n",
       "      <td>1.0</td>\n",
       "      <td>206570</td>\n",
       "      <td>Italy</td>\n",
       "    </tr>\n",
       "    <tr>\n",
       "      <th>2</th>\n",
       "      <td>12260077</td>\n",
       "      <td>46391</td>\n",
       "      <td>Germany</td>\n",
       "      <td>275923</td>\n",
       "      <td>Spain</td>\n",
       "      <td>2.0</td>\n",
       "      <td>275923</td>\n",
       "      <td>Spain</td>\n",
       "    </tr>\n",
       "    <tr>\n",
       "      <th>3</th>\n",
       "      <td>12260078</td>\n",
       "      <td>106755</td>\n",
       "      <td>Russia</td>\n",
       "      <td>275923</td>\n",
       "      <td>Spain</td>\n",
       "      <td>1.0</td>\n",
       "      <td>106755</td>\n",
       "      <td>Russia</td>\n",
       "    </tr>\n",
       "    <tr>\n",
       "      <th>4</th>\n",
       "      <td>12260080</td>\n",
       "      <td>221012</td>\n",
       "      <td>Argentina</td>\n",
       "      <td>57163</td>\n",
       "      <td>Germany</td>\n",
       "      <td>1.0</td>\n",
       "      <td>221012</td>\n",
       "      <td>Argentina</td>\n",
       "    </tr>\n",
       "  </tbody>\n",
       "</table>\n",
       "</div>"
      ],
      "text/plain": [
       "   match_id  player_id_x  country_x  player_id_y       country_y  winner_code  \\\n",
       "0  12260075        14486      Spain       254742  Czech Republic          2.0   \n",
       "1  12260076       206570      Italy        90080          Russia          1.0   \n",
       "2  12260077        46391    Germany       275923           Spain          2.0   \n",
       "3  12260078       106755     Russia       275923           Spain          1.0   \n",
       "4  12260080       221012  Argentina        57163         Germany          1.0   \n",
       "\n",
       "   winner_id  winner_country  \n",
       "0     254742  Czech Republic  \n",
       "1     206570           Italy  \n",
       "2     275923           Spain  \n",
       "3     106755          Russia  \n",
       "4     221012       Argentina  "
      ]
     },
     "metadata": {},
     "output_type": "display_data"
    }
   ],
   "source": [
    "merged_EHW['winner_country'] = merged_EHW.apply( lambda x : x['country_x']\n",
    "                                                 if x['winner_code']==1 \n",
    "                                                else x['country_y'] , axis = 1)\n",
    "merged_EHW.head()"
   ]
  },
  {
   "cell_type": "markdown",
   "metadata": {},
   "source": [
    "Find the country with the highest total prize money earned"
   ]
  },
  {
   "cell_type": "code",
   "execution_count": null,
   "metadata": {},
   "outputs": [
    {
     "name": "stdout",
     "output_type": "stream",
     "text": [
      "The country that has produced the most successful tennis players based on total prize money earned is USA with total prize money of $374.\n"
     ]
    }
   ],
   "source": [
    "country = merged_EHW.groupby(['winner_country'])['match_id'].count().idxmax()\n",
    "max = merged_EHW.groupby(['winner_country'])['match_id'].count().max()\n",
    "print(f\"The country that has produced the most successful tennis players based on total prize money earned is {country} with total prize money of ${max}.\")"
   ]
  }
 ],
 "metadata": {
  "kernelspec": {
   "display_name": "Python 3",
   "language": "python",
   "name": "python3"
  },
  "language_info": {
   "codemirror_mode": {
    "name": "ipython",
    "version": 3
   },
   "file_extension": ".py",
   "mimetype": "text/x-python",
   "name": "python",
   "nbconvert_exporter": "python",
   "pygments_lexer": "ipython3",
   "version": "3.12.2"
  }
 },
 "nbformat": 4,
 "nbformat_minor": 2
}
