{
 "cells": [
  {
   "cell_type": "markdown",
   "metadata": {},
   "source": [
    "**8.\tIs there a difference in the number of double faults based on gender?**"
   ]
  },
  {
   "cell_type": "markdown",
   "metadata": {},
   "source": [
    "Importing required libraries"
   ]
  },
  {
   "cell_type": "code",
   "execution_count": 1,
   "metadata": {},
   "outputs": [],
   "source": [
    "import pandas as pd\n",
    "import numpy as np\n",
    "import matplotlib.pyplot as plt\n",
    "import scipy.stats as stats"
   ]
  },
  {
   "cell_type": "markdown",
   "metadata": {},
   "source": [
    "Reading requierd tables and dropping duplicated data"
   ]
  },
  {
   "cell_type": "code",
   "execution_count": 2,
   "metadata": {},
   "outputs": [],
   "source": [
    "MatchHomeTeamInfo = pd.read_csv( 'C:/Users/Maedeh/Desktop/TenisMatchPro/data/external/MatchHomeTeamInfo.csv')\n",
    "MatchAwayTeamInfo = pd.read_csv( 'C:/Users/Maedeh/Desktop/TenisMatchPro/data/external/MatchAwayTeamInfo.csv')\n",
    "PeriodInfo = pd.read_csv( 'C:/Users/Maedeh/Desktop/TenisMatchPro/data/external/PeriodInfo.csv')\n",
    "MatchHomeTeamInfo_dd = MatchHomeTeamInfo.drop_duplicates (subset = 'match_id')\n",
    "MatchAwayTeamInfo_dd = MatchAwayTeamInfo.drop_duplicates (subset = 'match_id')\n"
   ]
  },
  {
   "cell_type": "markdown",
   "metadata": {},
   "source": [
    "Filter rows where the statistic_name is \"double_faults\" and Merge with MatchHomeTeamInfo and MatchAwayTeamInfo to get gender and double faults"
   ]
  },
  {
   "cell_type": "code",
   "execution_count": 12,
   "metadata": {},
   "outputs": [
    {
     "data": {
      "text/html": [
       "<div>\n",
       "<style scoped>\n",
       "    .dataframe tbody tr th:only-of-type {\n",
       "        vertical-align: middle;\n",
       "    }\n",
       "\n",
       "    .dataframe tbody tr th {\n",
       "        vertical-align: top;\n",
       "    }\n",
       "\n",
       "    .dataframe thead th {\n",
       "        text-align: right;\n",
       "    }\n",
       "</style>\n",
       "<table border=\"1\" class=\"dataframe\">\n",
       "  <thead>\n",
       "    <tr style=\"text-align: right;\">\n",
       "      <th></th>\n",
       "      <th>gender</th>\n",
       "      <th>double_faults</th>\n",
       "      <th>player_id</th>\n",
       "    </tr>\n",
       "  </thead>\n",
       "  <tbody>\n",
       "    <tr>\n",
       "      <th>0</th>\n",
       "      <td>M</td>\n",
       "      <td>2</td>\n",
       "      <td>14486</td>\n",
       "    </tr>\n",
       "    <tr>\n",
       "      <th>1</th>\n",
       "      <td>M</td>\n",
       "      <td>3</td>\n",
       "      <td>206570</td>\n",
       "    </tr>\n",
       "    <tr>\n",
       "      <th>2</th>\n",
       "      <td>M</td>\n",
       "      <td>4</td>\n",
       "      <td>46391</td>\n",
       "    </tr>\n",
       "    <tr>\n",
       "      <th>3</th>\n",
       "      <td>M</td>\n",
       "      <td>2</td>\n",
       "      <td>106755</td>\n",
       "    </tr>\n",
       "    <tr>\n",
       "      <th>4</th>\n",
       "      <td>M</td>\n",
       "      <td>1</td>\n",
       "      <td>221012</td>\n",
       "    </tr>\n",
       "  </tbody>\n",
       "</table>\n",
       "</div>"
      ],
      "text/plain": [
       "  gender  double_faults  player_id\n",
       "0      M              2      14486\n",
       "1      M              3     206570\n",
       "2      M              4      46391\n",
       "3      M              2     106755\n",
       "4      M              1     221012"
      ]
     },
     "execution_count": 12,
     "metadata": {},
     "output_type": "execute_result"
    }
   ],
   "source": [
    "# Filter rows where the statistic_name is \"double_faults\" and ALL period\n",
    "double_faults_data = PeriodInfo[(PeriodInfo['statistic_name'] == 'double_faults') &\n",
    "                                (PeriodInfo['period'] == 'ALL')]\n",
    "\n",
    "# Merge with MatchHomeTeamInfo to get home team gender and double faults\n",
    "home_merged = pd.merge(double_faults_data,\n",
    "                       MatchHomeTeamInfo_dd[['match_id', 'gender', 'player_id']], on='match_id').drop_duplicates(subset='match_id')\n",
    "home_double_faults = home_merged[['gender',\n",
    "                                  'home_stat' , 'player_id']].rename(columns={'home_stat': 'double_faults'})\n",
    "\n",
    "# Merge with MatchAwayTeamInfo to get away team gender and double faults\n",
    "away_merged = pd.merge(double_faults_data,\n",
    "                       MatchAwayTeamInfo_dd[['match_id', 'gender' , 'player_id']], on='match_id').drop_duplicates(subset='match_id')\n",
    "away_double_faults = away_merged[['gender', \n",
    "                                  'away_stat' , 'player_id']].rename(columns={'away_stat': 'double_faults'})\n",
    "\n",
    "# Combine home and away double faults\n",
    "combined_double_faults = pd.concat([home_double_faults, away_double_faults])\n",
    "\n",
    "# Convert double_faults to numeric\n",
    "combined_double_faults['double_faults'] = pd.to_numeric(combined_double_faults['double_faults'])\n",
    "male_combined_double_faults = combined_double_faults[combined_double_faults['gender'] == 'M']\n",
    "female_combined_double_faults = combined_double_faults[combined_double_faults['gender'] == 'F']\n",
    "male_combined_double_faults.head()\n"
   ]
  },
  {
   "cell_type": "markdown",
   "metadata": {},
   "source": [
    "Filter rows where the statistic_name is \"double_faults\" and Merge with MatchHomeTeamInfo and MatchAwayTeamInfo to get gender and double faults"
   ]
  },
  {
   "cell_type": "code",
   "execution_count": 14,
   "metadata": {},
   "outputs": [
    {
     "data": {
      "image/png": "[encoded data removed]",
      "text/plain": [
       "<Figure size 640x480 with 1 Axes>"
      ]
     },
     "metadata": {},
     "output_type": "display_data"
    }
   ],
   "source": [
    "\n",
    "plt.hist(male_combined_double_faults['double_faults'],alpha=0.5)\n",
    "plt.hist(female_combined_double_faults['double_faults'], alpha=0.5)\n",
    "plt.legend(['Male', 'Female'])\n",
    "plt.show()"
   ]
  },
  {
   "cell_type": "code",
   "execution_count": 15,
   "metadata": {},
   "outputs": [
    {
     "name": "stdout",
     "output_type": "stream",
     "text": [
      "T-statistic: -18.598815378195127, p-value: 4.3727670450299826e-76\n",
      "Samples shows significant difference (reject H0)\n",
      "so there is significant difference the number of wins based on hostage\n"
     ]
    }
   ],
   "source": [
    "t_statistic, p_value = stats.ttest_ind (male_combined_double_faults['double_faults'],\n",
    "                                        female_combined_double_faults['double_faults'])\n",
    "print(f\"T-statistic: {t_statistic}, p-value: {p_value}\")\n",
    "\n",
    "# Interpretation\n",
    "alpha = 0.05\n",
    "if p_value < alpha:\n",
    "    print ('Samples shows significant difference (reject H0)')\n",
    "    print ('so there is significant difference the number of double faults based on gender')\n",
    "else:\n",
    "    print ( 'Samples dose not show significant difference  (fail to reject H0)')\n",
    "    print ('so there is not significant difference the number of double faults based on gender')"
   ]
  }
 ],
 "metadata": {
  "kernelspec": {
   "display_name": "Python 3",
   "language": "python",
   "name": "python3"
  },
  "language_info": {
   "codemirror_mode": {
    "name": "ipython",
    "version": 3
   },
   "file_extension": ".py",
   "mimetype": "text/x-python",
   "name": "python",
   "nbconvert_exporter": "python",
   "pygments_lexer": "ipython3",
   "version": "3.12.2"
  }
 },
 "nbformat": 4,
 "nbformat_minor": 2
}
